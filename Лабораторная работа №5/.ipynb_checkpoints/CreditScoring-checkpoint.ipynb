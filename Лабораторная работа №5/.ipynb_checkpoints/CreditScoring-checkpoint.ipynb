{
 "cells": [
  {
   "cell_type": "code",
   "execution_count": 849,
   "metadata": {},
   "outputs": [],
   "source": [
    "import numpy as np\n",
    "import pandas as pd\n",
    "from matplotlib import pyplot as plt\n",
    "\n",
    "from sklearn.model_selection import train_test_split, cross_val_score\n",
    "from sklearn.preprocessing import LabelEncoder\n",
    "from sklearn.ensemble import RandomForestClassifier, BaggingClassifier\n",
    "from sklearn.tree import DecisionTreeClassifier\n",
    "from sklearn.linear_model import LinearRegression\n",
    "from sklearn.metrics import confusion_matrix\n",
    "from sklearn.preprocessing import MinMaxScaler\n",
    "from sklearn.neighbors import KNeighborsClassifier\n",
    "from sklearn.neural_network import MLPClassifier\n"
   ]
  },
  {
   "cell_type": "code",
   "execution_count": 850,
   "metadata": {},
   "outputs": [],
   "source": [
    "columns = pd.read_csv('loans.txt', sep='\\t', encoding='1251', nrows=0).columns"
   ]
  },
  {
   "cell_type": "code",
   "execution_count": 851,
   "metadata": {},
   "outputs": [
    {
     "data": {
      "text/plain": [
       "Index(['Код', 'Дата', 'ОД, %', 'Возраст', 'Проживание',\n",
       "       'Срок проживания в регионе', 'Семейное положение', 'Образование',\n",
       "       'Стаж работы на последнем месте', 'Уровень должности',\n",
       "       'Кредитная история', 'Просрочки свыше 60 дн.', 'Тестовое множество'],\n",
       "      dtype='object')"
      ]
     },
     "execution_count": 851,
     "metadata": {},
     "output_type": "execute_result"
    }
   ],
   "source": [
    "columns"
   ]
  },
  {
   "cell_type": "code",
   "execution_count": 852,
   "metadata": {},
   "outputs": [],
   "source": [
    "df = pd.read_csv(\n",
    "    'loans.txt', sep='\\t', encoding='1251', index_col=\"Код\", usecols=[i for i in columns if i != 'Тестовое множество']\n",
    ")"
   ]
  },
  {
   "cell_type": "code",
   "execution_count": 853,
   "metadata": {},
   "outputs": [
    {
     "data": {
      "text/html": [
       "<div>\n",
       "<style scoped>\n",
       "    .dataframe tbody tr th:only-of-type {\n",
       "        vertical-align: middle;\n",
       "    }\n",
       "\n",
       "    .dataframe tbody tr th {\n",
       "        vertical-align: top;\n",
       "    }\n",
       "\n",
       "    .dataframe thead th {\n",
       "        text-align: right;\n",
       "    }\n",
       "</style>\n",
       "<table border=\"1\" class=\"dataframe\">\n",
       "  <thead>\n",
       "    <tr style=\"text-align: right;\">\n",
       "      <th></th>\n",
       "      <th>Дата</th>\n",
       "      <th>ОД, %</th>\n",
       "      <th>Возраст</th>\n",
       "      <th>Проживание</th>\n",
       "      <th>Срок проживания в регионе</th>\n",
       "      <th>Семейное положение</th>\n",
       "      <th>Образование</th>\n",
       "      <th>Стаж работы на последнем месте</th>\n",
       "      <th>Уровень должности</th>\n",
       "      <th>Кредитная история</th>\n",
       "      <th>Просрочки свыше 60 дн.</th>\n",
       "    </tr>\n",
       "    <tr>\n",
       "      <th>Код</th>\n",
       "      <th></th>\n",
       "      <th></th>\n",
       "      <th></th>\n",
       "      <th></th>\n",
       "      <th></th>\n",
       "      <th></th>\n",
       "      <th></th>\n",
       "      <th></th>\n",
       "      <th></th>\n",
       "      <th></th>\n",
       "      <th></th>\n",
       "    </tr>\n",
       "  </thead>\n",
       "  <tbody>\n",
       "    <tr>\n",
       "      <td>1</td>\n",
       "      <td>02.03.2007</td>\n",
       "      <td>51</td>\n",
       "      <td>26</td>\n",
       "      <td>Муниципальное жилье</td>\n",
       "      <td>менее 1 года</td>\n",
       "      <td>Другое</td>\n",
       "      <td>высшее</td>\n",
       "      <td>менее 1 года</td>\n",
       "      <td>сотрудник</td>\n",
       "      <td>нет данных</td>\n",
       "      <td>1</td>\n",
       "    </tr>\n",
       "    <tr>\n",
       "      <td>2</td>\n",
       "      <td>02.03.2007</td>\n",
       "      <td>46</td>\n",
       "      <td>32</td>\n",
       "      <td>Собственник</td>\n",
       "      <td>от 1 до 5 лет</td>\n",
       "      <td>Женат/замужем</td>\n",
       "      <td>высшее</td>\n",
       "      <td>свыше 3 лет</td>\n",
       "      <td>сотрудник</td>\n",
       "      <td>положительная</td>\n",
       "      <td>0</td>\n",
       "    </tr>\n",
       "    <tr>\n",
       "      <td>3</td>\n",
       "      <td>02.03.2007</td>\n",
       "      <td>13</td>\n",
       "      <td>36</td>\n",
       "      <td>Аренда</td>\n",
       "      <td>свыше 5 лет</td>\n",
       "      <td>Холост/Не замужем</td>\n",
       "      <td>среднее специальное</td>\n",
       "      <td>от 1 года до 3 лет</td>\n",
       "      <td>сотрудник</td>\n",
       "      <td>нет данных</td>\n",
       "      <td>0</td>\n",
       "    </tr>\n",
       "    <tr>\n",
       "      <td>4</td>\n",
       "      <td>02.03.2007</td>\n",
       "      <td>48</td>\n",
       "      <td>52</td>\n",
       "      <td>Муниципальное жилье</td>\n",
       "      <td>от 1 до 5 лет</td>\n",
       "      <td>Другое</td>\n",
       "      <td>высшее</td>\n",
       "      <td>менее 1 года</td>\n",
       "      <td>сотрудник</td>\n",
       "      <td>нет данных</td>\n",
       "      <td>1</td>\n",
       "    </tr>\n",
       "    <tr>\n",
       "      <td>5</td>\n",
       "      <td>02.03.2007</td>\n",
       "      <td>33</td>\n",
       "      <td>30</td>\n",
       "      <td>Собственник</td>\n",
       "      <td>от 1 до 5 лет</td>\n",
       "      <td>Холост/Не замужем</td>\n",
       "      <td>среднее специальное</td>\n",
       "      <td>менее 1 года</td>\n",
       "      <td>сотрудник</td>\n",
       "      <td>нет данных</td>\n",
       "      <td>0</td>\n",
       "    </tr>\n",
       "  </tbody>\n",
       "</table>\n",
       "</div>"
      ],
      "text/plain": [
       "           Дата  ОД, %  Возраст           Проживание  \\\n",
       "Код                                                    \n",
       "1    02.03.2007     51       26  Муниципальное жилье   \n",
       "2    02.03.2007     46       32          Собственник   \n",
       "3    02.03.2007     13       36               Аренда   \n",
       "4    02.03.2007     48       52  Муниципальное жилье   \n",
       "5    02.03.2007     33       30          Собственник   \n",
       "\n",
       "    Срок проживания в регионе Семейное положение          Образование  \\\n",
       "Код                                                                     \n",
       "1                менее 1 года             Другое               высшее   \n",
       "2               от 1 до 5 лет      Женат/замужем               высшее   \n",
       "3                 свыше 5 лет  Холост/Не замужем  среднее специальное   \n",
       "4               от 1 до 5 лет             Другое               высшее   \n",
       "5               от 1 до 5 лет  Холост/Не замужем  среднее специальное   \n",
       "\n",
       "    Стаж работы на последнем месте Уровень должности Кредитная история  \\\n",
       "Код                                                                      \n",
       "1                     менее 1 года         сотрудник        нет данных   \n",
       "2                      свыше 3 лет         сотрудник     положительная   \n",
       "3               от 1 года до 3 лет         сотрудник        нет данных   \n",
       "4                     менее 1 года         сотрудник        нет данных   \n",
       "5                     менее 1 года         сотрудник        нет данных   \n",
       "\n",
       "     Просрочки свыше 60 дн.  \n",
       "Код                          \n",
       "1                         1  \n",
       "2                         0  \n",
       "3                         0  \n",
       "4                         1  \n",
       "5                         0  "
      ]
     },
     "execution_count": 853,
     "metadata": {},
     "output_type": "execute_result"
    }
   ],
   "source": [
    "df.head()"
   ]
  },
  {
   "cell_type": "code",
   "execution_count": 854,
   "metadata": {},
   "outputs": [],
   "source": [
    "def coder(df, old_name, new_name):\n",
    "    coder_model = LabelEncoder()\n",
    "    coder_model.fit(df[old_name])\n",
    "    df[new_name] = coder_model.transform(df[old_name])\n",
    "    "
   ]
  },
  {
   "cell_type": "code",
   "execution_count": 855,
   "metadata": {},
   "outputs": [],
   "source": [
    "coder(df, \"Проживание\", \"Home\")\n",
    "coder(df, \"Срок проживания в регионе\", \"Period\")\n",
    "coder(df, \"Семейное положение\", \"Status\")\n",
    "coder(df, \"Образование\", \"Degree\")\n",
    "coder(df, \"Стаж работы на последнем месте\", \"WorkExperience\")\n",
    "coder(df, \"Уровень должности\", \"Position\")\n",
    "coder(df, \"Кредитная история\", \"History\")"
   ]
  },
  {
   "cell_type": "code",
   "execution_count": 856,
   "metadata": {},
   "outputs": [
    {
     "data": {
      "text/html": [
       "<div>\n",
       "<style scoped>\n",
       "    .dataframe tbody tr th:only-of-type {\n",
       "        vertical-align: middle;\n",
       "    }\n",
       "\n",
       "    .dataframe tbody tr th {\n",
       "        vertical-align: top;\n",
       "    }\n",
       "\n",
       "    .dataframe thead th {\n",
       "        text-align: right;\n",
       "    }\n",
       "</style>\n",
       "<table border=\"1\" class=\"dataframe\">\n",
       "  <thead>\n",
       "    <tr style=\"text-align: right;\">\n",
       "      <th></th>\n",
       "      <th>Дата</th>\n",
       "      <th>ОД, %</th>\n",
       "      <th>Возраст</th>\n",
       "      <th>Проживание</th>\n",
       "      <th>Срок проживания в регионе</th>\n",
       "      <th>Семейное положение</th>\n",
       "      <th>Образование</th>\n",
       "      <th>Стаж работы на последнем месте</th>\n",
       "      <th>Уровень должности</th>\n",
       "      <th>Кредитная история</th>\n",
       "      <th>Просрочки свыше 60 дн.</th>\n",
       "      <th>Home</th>\n",
       "      <th>Period</th>\n",
       "      <th>Status</th>\n",
       "      <th>Degree</th>\n",
       "      <th>WorkExperience</th>\n",
       "      <th>Position</th>\n",
       "      <th>History</th>\n",
       "    </tr>\n",
       "    <tr>\n",
       "      <th>Код</th>\n",
       "      <th></th>\n",
       "      <th></th>\n",
       "      <th></th>\n",
       "      <th></th>\n",
       "      <th></th>\n",
       "      <th></th>\n",
       "      <th></th>\n",
       "      <th></th>\n",
       "      <th></th>\n",
       "      <th></th>\n",
       "      <th></th>\n",
       "      <th></th>\n",
       "      <th></th>\n",
       "      <th></th>\n",
       "      <th></th>\n",
       "      <th></th>\n",
       "      <th></th>\n",
       "      <th></th>\n",
       "    </tr>\n",
       "  </thead>\n",
       "  <tbody>\n",
       "    <tr>\n",
       "      <td>1</td>\n",
       "      <td>02.03.2007</td>\n",
       "      <td>51</td>\n",
       "      <td>26</td>\n",
       "      <td>Муниципальное жилье</td>\n",
       "      <td>менее 1 года</td>\n",
       "      <td>Другое</td>\n",
       "      <td>высшее</td>\n",
       "      <td>менее 1 года</td>\n",
       "      <td>сотрудник</td>\n",
       "      <td>нет данных</td>\n",
       "      <td>1</td>\n",
       "      <td>1</td>\n",
       "      <td>0</td>\n",
       "      <td>0</td>\n",
       "      <td>0</td>\n",
       "      <td>0</td>\n",
       "      <td>2</td>\n",
       "      <td>0</td>\n",
       "    </tr>\n",
       "    <tr>\n",
       "      <td>2</td>\n",
       "      <td>02.03.2007</td>\n",
       "      <td>46</td>\n",
       "      <td>32</td>\n",
       "      <td>Собственник</td>\n",
       "      <td>от 1 до 5 лет</td>\n",
       "      <td>Женат/замужем</td>\n",
       "      <td>высшее</td>\n",
       "      <td>свыше 3 лет</td>\n",
       "      <td>сотрудник</td>\n",
       "      <td>положительная</td>\n",
       "      <td>0</td>\n",
       "      <td>2</td>\n",
       "      <td>1</td>\n",
       "      <td>1</td>\n",
       "      <td>0</td>\n",
       "      <td>2</td>\n",
       "      <td>2</td>\n",
       "      <td>2</td>\n",
       "    </tr>\n",
       "    <tr>\n",
       "      <td>3</td>\n",
       "      <td>02.03.2007</td>\n",
       "      <td>13</td>\n",
       "      <td>36</td>\n",
       "      <td>Аренда</td>\n",
       "      <td>свыше 5 лет</td>\n",
       "      <td>Холост/Не замужем</td>\n",
       "      <td>среднее специальное</td>\n",
       "      <td>от 1 года до 3 лет</td>\n",
       "      <td>сотрудник</td>\n",
       "      <td>нет данных</td>\n",
       "      <td>0</td>\n",
       "      <td>0</td>\n",
       "      <td>2</td>\n",
       "      <td>3</td>\n",
       "      <td>2</td>\n",
       "      <td>1</td>\n",
       "      <td>2</td>\n",
       "      <td>0</td>\n",
       "    </tr>\n",
       "    <tr>\n",
       "      <td>4</td>\n",
       "      <td>02.03.2007</td>\n",
       "      <td>48</td>\n",
       "      <td>52</td>\n",
       "      <td>Муниципальное жилье</td>\n",
       "      <td>от 1 до 5 лет</td>\n",
       "      <td>Другое</td>\n",
       "      <td>высшее</td>\n",
       "      <td>менее 1 года</td>\n",
       "      <td>сотрудник</td>\n",
       "      <td>нет данных</td>\n",
       "      <td>1</td>\n",
       "      <td>1</td>\n",
       "      <td>1</td>\n",
       "      <td>0</td>\n",
       "      <td>0</td>\n",
       "      <td>0</td>\n",
       "      <td>2</td>\n",
       "      <td>0</td>\n",
       "    </tr>\n",
       "    <tr>\n",
       "      <td>5</td>\n",
       "      <td>02.03.2007</td>\n",
       "      <td>33</td>\n",
       "      <td>30</td>\n",
       "      <td>Собственник</td>\n",
       "      <td>от 1 до 5 лет</td>\n",
       "      <td>Холост/Не замужем</td>\n",
       "      <td>среднее специальное</td>\n",
       "      <td>менее 1 года</td>\n",
       "      <td>сотрудник</td>\n",
       "      <td>нет данных</td>\n",
       "      <td>0</td>\n",
       "      <td>2</td>\n",
       "      <td>1</td>\n",
       "      <td>3</td>\n",
       "      <td>2</td>\n",
       "      <td>0</td>\n",
       "      <td>2</td>\n",
       "      <td>0</td>\n",
       "    </tr>\n",
       "  </tbody>\n",
       "</table>\n",
       "</div>"
      ],
      "text/plain": [
       "           Дата  ОД, %  Возраст           Проживание  \\\n",
       "Код                                                    \n",
       "1    02.03.2007     51       26  Муниципальное жилье   \n",
       "2    02.03.2007     46       32          Собственник   \n",
       "3    02.03.2007     13       36               Аренда   \n",
       "4    02.03.2007     48       52  Муниципальное жилье   \n",
       "5    02.03.2007     33       30          Собственник   \n",
       "\n",
       "    Срок проживания в регионе Семейное положение          Образование  \\\n",
       "Код                                                                     \n",
       "1                менее 1 года             Другое               высшее   \n",
       "2               от 1 до 5 лет      Женат/замужем               высшее   \n",
       "3                 свыше 5 лет  Холост/Не замужем  среднее специальное   \n",
       "4               от 1 до 5 лет             Другое               высшее   \n",
       "5               от 1 до 5 лет  Холост/Не замужем  среднее специальное   \n",
       "\n",
       "    Стаж работы на последнем месте Уровень должности Кредитная история  \\\n",
       "Код                                                                      \n",
       "1                     менее 1 года         сотрудник        нет данных   \n",
       "2                      свыше 3 лет         сотрудник     положительная   \n",
       "3               от 1 года до 3 лет         сотрудник        нет данных   \n",
       "4                     менее 1 года         сотрудник        нет данных   \n",
       "5                     менее 1 года         сотрудник        нет данных   \n",
       "\n",
       "     Просрочки свыше 60 дн.  Home  Period  Status  Degree  WorkExperience  \\\n",
       "Код                                                                         \n",
       "1                         1     1       0       0       0               0   \n",
       "2                         0     2       1       1       0               2   \n",
       "3                         0     0       2       3       2               1   \n",
       "4                         1     1       1       0       0               0   \n",
       "5                         0     2       1       3       2               0   \n",
       "\n",
       "     Position  History  \n",
       "Код                     \n",
       "1           2        0  \n",
       "2           2        2  \n",
       "3           2        0  \n",
       "4           2        0  \n",
       "5           2        0  "
      ]
     },
     "execution_count": 856,
     "metadata": {},
     "output_type": "execute_result"
    }
   ],
   "source": [
    "df.head()"
   ]
  },
  {
   "cell_type": "code",
   "execution_count": 857,
   "metadata": {},
   "outputs": [],
   "source": [
    "target = \"Просрочки свыше 60 дн.\"\n",
    "features = [\"ОД, %\", \"Period\", \"Status\", \"Degree\", \"WorkExperience\", \"Position\", \"History\", \"Home\"]"
   ]
  },
  {
   "cell_type": "code",
   "execution_count": 858,
   "metadata": {},
   "outputs": [],
   "source": [
    "X_train, X_test, y_train, y_test = train_test_split(df[features], df[target], random_state=42)"
   ]
  },
  {
   "cell_type": "code",
   "execution_count": 859,
   "metadata": {},
   "outputs": [
    {
     "name": "stdout",
     "output_type": "stream",
     "text": [
      "Точность на обучающей выборке: 0.9803052683407188\n",
      "Точность на тестовой выборке: 0.8480825958702065\n"
     ]
    },
    {
     "name": "stderr",
     "output_type": "stream",
     "text": [
      "C:\\Users\\RTFE4\\AppData\\Local\\Continuum\\anaconda3\\lib\\site-packages\\sklearn\\ensemble\\forest.py:245: FutureWarning: The default value of n_estimators will change from 10 in version 0.20 to 100 in 0.22.\n",
      "  \"10 in version 0.20 to 100 in 0.22.\", FutureWarning)\n"
     ]
    }
   ],
   "source": [
    "# Случайный лес с параметрами по умолчанию, результан - переобучение\n",
    "forest = RandomForestClassifier(random_state=42)\n",
    "forest.fit(X_train, y_train)\n",
    "print(f\"Точность на обучающей выборке: {forest.score(X_train, y_train)}\")\n",
    "print(f\"Точность на тестовой выборке: {forest.score(X_test, y_test)}\")"
   ]
  },
  {
   "cell_type": "code",
   "execution_count": 1027,
   "metadata": {},
   "outputs": [
    {
     "name": "stdout",
     "output_type": "stream",
     "text": [
      "Точность на обучающей выборке: 0.9532250123092073\n",
      "Точность на тестовой выборке: 0.8657817109144543\n"
     ]
    }
   ],
   "source": [
    "forest = RandomForestClassifier(random_state=42, max_depth=10, n_estimators=50, max_features=len(features))\n",
    "forest.fit(X_train, y_train)\n",
    "print(f\"Точность на обучающей выборке: {forest.score(X_train, y_train)}\")\n",
    "print(f\"Точность на тестовой выборке: {forest.score(X_test, y_test)}\")"
   ]
  },
  {
   "cell_type": "code",
   "execution_count": 1028,
   "metadata": {},
   "outputs": [
    {
     "name": "stdout",
     "output_type": "stream",
     "text": [
      "[0.83763838 0.86346863 0.86900369 0.83579336 0.85951941]\n",
      "0.8530846935086724\n"
     ]
    }
   ],
   "source": [
    "score = cross_val_score(forest, df[features], df[target], cv=5)\n",
    "print(score)\n",
    "print(score.mean())"
   ]
  },
  {
   "cell_type": "code",
   "execution_count": 1029,
   "metadata": {},
   "outputs": [
    {
     "name": "stdout",
     "output_type": "stream",
     "text": [
      "[[521  40]\n",
      " [ 51  66]]\n"
     ]
    }
   ],
   "source": [
    "pred = forest.predict(X_test)\n",
    "print(confusion_matrix(y_test, pred))"
   ]
  },
  {
   "cell_type": "code",
   "execution_count": 957,
   "metadata": {},
   "outputs": [
    {
     "name": "stdout",
     "output_type": "stream",
     "text": [
      "Точность на обучающей выборке: 0.9162973904480551\n",
      "Точность на тестовой выборке: 0.8510324483775811\n"
     ]
    }
   ],
   "source": [
    "dtree = DecisionTreeClassifier(random_state=42, max_depth=9)\n",
    "dtree.fit(X_train, y_train)\n",
    "print(f\"Точность на обучающей выборке: {dtree.score(X_train, y_train)}\")\n",
    "print(f\"Точность на тестовой выборке: {dtree.score(X_test, y_test)}\")"
   ]
  },
  {
   "cell_type": "code",
   "execution_count": 928,
   "metadata": {},
   "outputs": [
    {
     "name": "stdout",
     "output_type": "stream",
     "text": [
      "[[520  41]\n",
      " [ 60  57]]\n"
     ]
    }
   ],
   "source": [
    "pred = dtree.predict(X_test)\n",
    "print(confusion_matrix(y_test, pred))"
   ]
  },
  {
   "cell_type": "code",
   "execution_count": 929,
   "metadata": {},
   "outputs": [
    {
     "name": "stdout",
     "output_type": "stream",
     "text": [
      "[0.82841328 0.82656827 0.85608856 0.79151292 0.85027726]\n",
      "0.8305720580311163\n"
     ]
    }
   ],
   "source": [
    "score = cross_val_score(dtree, df[features], df[target], cv=5)\n",
    "print(score)\n",
    "print(score.mean())"
   ]
  },
  {
   "cell_type": "code",
   "execution_count": 930,
   "metadata": {},
   "outputs": [
    {
     "name": "stdout",
     "output_type": "stream",
     "text": [
      "Точность на обучающей выборке: 0.9394387001477105\n",
      "Точность на тестовой выборке: 0.8746312684365781\n"
     ]
    }
   ],
   "source": [
    "bag = BaggingClassifier(dtree, n_estimators=30, random_state=0)\n",
    "bag.fit(X_train, y_train)\n",
    "print(f\"Точность на обучающей выборке: {bag.score(X_train, y_train)}\")\n",
    "print(f\"Точность на тестовой выборке: {bag.score(X_test, y_test)}\")"
   ]
  },
  {
   "cell_type": "code",
   "execution_count": 931,
   "metadata": {},
   "outputs": [
    {
     "name": "stdout",
     "output_type": "stream",
     "text": [
      "[[529  32]\n",
      " [ 53  64]]\n"
     ]
    }
   ],
   "source": [
    "pred = bag.predict(X_test)\n",
    "print(confusion_matrix(y_test, pred))"
   ]
  },
  {
   "cell_type": "code",
   "execution_count": 932,
   "metadata": {},
   "outputs": [
    {
     "name": "stdout",
     "output_type": "stream",
     "text": [
      "[0.83210332 0.86531365 0.87269373 0.83579336 0.86136784]\n",
      "0.8534543792757706\n"
     ]
    }
   ],
   "source": [
    "score = cross_val_score(bag, df[features], df[target], cv=5)\n",
    "print(score)\n",
    "print(score.mean())"
   ]
  },
  {
   "cell_type": "code",
   "execution_count": 912,
   "metadata": {},
   "outputs": [
    {
     "data": {
      "text/plain": [
       "MinMaxScaler(copy=True, feature_range=(0, 1))"
      ]
     },
     "execution_count": 912,
     "metadata": {},
     "output_type": "execute_result"
    }
   ],
   "source": [
    "scaler = MinMaxScaler()\n",
    "scaler.fit(X_train)"
   ]
  },
  {
   "cell_type": "code",
   "execution_count": 872,
   "metadata": {},
   "outputs": [],
   "source": [
    "X_train_scaled = scaler.transform(X_train)\n",
    "X_test_scaled = scaler.transform(X_test)"
   ]
  },
  {
   "cell_type": "code",
   "execution_count": 874,
   "metadata": {},
   "outputs": [
    {
     "name": "stdout",
     "output_type": "stream",
     "text": [
      "Точность на обучающей выборке: 0.8872476612506155\n",
      "Точность на тестовой выборке: 0.8185840707964602\n"
     ]
    }
   ],
   "source": [
    "knn = KNeighborsClassifier(n_neighbors=3).fit(X_train, y_train)\n",
    "print(f\"Точность на обучающей выборке: {knn.score(X_train, y_train)}\")\n",
    "print(f\"Точность на тестовой выборке: {knn.score(X_test, y_test)}\")"
   ]
  },
  {
   "cell_type": "code",
   "execution_count": 875,
   "metadata": {},
   "outputs": [
    {
     "name": "stdout",
     "output_type": "stream",
     "text": [
      "[[517  44]\n",
      " [ 79  38]]\n"
     ]
    }
   ],
   "source": [
    "pred = knn.predict(X_test)\n",
    "print(confusion_matrix(y_test, pred))"
   ]
  },
  {
   "cell_type": "code",
   "execution_count": 876,
   "metadata": {},
   "outputs": [
    {
     "name": "stdout",
     "output_type": "stream",
     "text": [
      "[0.81180812 0.80811808 0.81365314 0.8099631  0.81700555]\n",
      "0.8121095961421722\n"
     ]
    }
   ],
   "source": [
    "score = cross_val_score(knn, df[features], df[target], cv=5)\n",
    "print(score)\n",
    "print(score.mean())"
   ]
  },
  {
   "cell_type": "code",
   "execution_count": null,
   "metadata": {},
   "outputs": [],
   "source": []
  },
  {
   "cell_type": "code",
   "execution_count": null,
   "metadata": {},
   "outputs": [],
   "source": []
  },
  {
   "cell_type": "code",
   "execution_count": null,
   "metadata": {},
   "outputs": [],
   "source": []
  },
  {
   "cell_type": "code",
   "execution_count": null,
   "metadata": {},
   "outputs": [],
   "source": []
  },
  {
   "cell_type": "code",
   "execution_count": null,
   "metadata": {},
   "outputs": [],
   "source": []
  },
  {
   "cell_type": "code",
   "execution_count": null,
   "metadata": {},
   "outputs": [],
   "source": []
  },
  {
   "cell_type": "code",
   "execution_count": null,
   "metadata": {},
   "outputs": [],
   "source": []
  },
  {
   "cell_type": "code",
   "execution_count": null,
   "metadata": {},
   "outputs": [],
   "source": []
  },
  {
   "cell_type": "code",
   "execution_count": null,
   "metadata": {},
   "outputs": [],
   "source": []
  },
  {
   "cell_type": "code",
   "execution_count": null,
   "metadata": {},
   "outputs": [],
   "source": []
  }
 ],
 "metadata": {
  "kernelspec": {
   "display_name": "Python 3",
   "language": "python",
   "name": "python3"
  },
  "language_info": {
   "codemirror_mode": {
    "name": "ipython",
    "version": 3
   },
   "file_extension": ".py",
   "mimetype": "text/x-python",
   "name": "python",
   "nbconvert_exporter": "python",
   "pygments_lexer": "ipython3",
   "version": "3.7.4"
  }
 },
 "nbformat": 4,
 "nbformat_minor": 2
}
