{
 "cells": [
  {
   "cell_type": "code",
   "execution_count": 427,
   "metadata": {},
   "outputs": [],
   "source": [
    "import numpy as np\n",
    "import pandas as pd\n",
    "from matplotlib import pyplot as plt\n",
    "\n",
    "from sklearn.model_selection import train_test_split, cross_val_score, GridSearchCV\n",
    "from sklearn.preprocessing import LabelEncoder\n",
    "from sklearn.ensemble import RandomForestClassifier, BaggingClassifier\n",
    "from sklearn.tree import DecisionTreeClassifier\n",
    "from sklearn.linear_model import LinearRegression\n",
    "from sklearn.metrics import confusion_matrix\n",
    "from sklearn.preprocessing import MinMaxScaler\n",
    "from sklearn.neighbors import KNeighborsClassifier\n",
    "from sklearn.neural_network import MLPClassifier\n",
    "from sklearn.linear_model import LogisticRegression\n",
    "from sklearn.svm import LinearSVC, SVC\n",
    "from sklearn.feature_selection import SelectFromModel\n",
    "\n",
    "from sklearn.metrics import classification_report, f1_score, precision_score, recall_score, accuracy_score, roc_auc_score"
   ]
  },
  {
   "cell_type": "code",
   "execution_count": 428,
   "metadata": {},
   "outputs": [],
   "source": [
    "def heatmap(values, xlabel, ylabel, xticklabels, yticklabels, cmap=None,\n",
    "            vmin=None, vmax=None, ax=None, fmt=\"%0.2f\"):\n",
    "    if ax is None:\n",
    "        ax = plt.gca()\n",
    "    img = ax.pcolor(values, cmap=cmap, vmin=vmin, vmax=vmax)\n",
    "    img.update_scalarmappable()\n",
    "    ax.set_xlabel(xlabel)\n",
    "    ax.set_ylabel(ylabel)\n",
    "    ax.set_xticks(np.arange(len(xticklabels)) + .5)\n",
    "    ax.set_yticks(np.arange(len(yticklabels)) + .5)\n",
    "    ax.set_xticklabels(xticklabels)\n",
    "    ax.set_yticklabels(yticklabels)\n",
    "    ax.set_aspect(1)\n",
    "\n",
    "    for p, color, value in zip(img.get_paths(), img.get_facecolors(),\n",
    "                               img.get_array()):\n",
    "        x, y = p.vertices[:-2, :].mean(0)\n",
    "        if np.mean(color[:3]) > 0.5:\n",
    "            c = 'k'\n",
    "        else:\n",
    "            c = 'w'\n",
    "        ax.text(x, y, fmt % value, color=c, ha=\"center\", va=\"center\")\n",
    "    return img"
   ]
  },
  {
   "cell_type": "code",
   "execution_count": 429,
   "metadata": {},
   "outputs": [],
   "source": [
    "def use_metrics(y_test, pred, labels=None):\n",
    "    if labels is None:\n",
    "        labels = [0, 1]\n",
    "    print(f\"accuracy: {accuracy_score(y_test, pred)}\")\n",
    "    print(f\"precision: {precision_score(y_test, pred)}\")\n",
    "    print(f\"recall: {recall_score(y_test, pred)}\")\n",
    "    print(f\"F-measure: {f1_score(y_test, pred)}\")\n",
    "    print(f\"roc-auc: {roc_auc_score(y_test, pred)}\")\n",
    "    print(classification_report(y_test, pred))\n",
    "    scores_image = heatmap(\n",
    "        confusion_matrix(y_test, pred), xlabel='Спрогнозированная метка класса',\n",
    "        ylabel='Фактическая метка класса', xticklabels=labels,\n",
    "        yticklabels=labels, cmap=plt.cm.gray_r, fmt=\"%d\"\n",
    "    )\n",
    "    plt.title(\"Матрица ошибок\")\n",
    "    plt.gca().invert_yaxis()"
   ]
  },
  {
   "cell_type": "markdown",
   "metadata": {},
   "source": [
    "# Загрузка и предварительная обработка данных"
   ]
  },
  {
   "cell_type": "code",
   "execution_count": 430,
   "metadata": {},
   "outputs": [],
   "source": [
    "columns = pd.read_csv('loans.txt', sep='\\t', encoding='1251', nrows=0).columns"
   ]
  },
  {
   "cell_type": "code",
   "execution_count": 431,
   "metadata": {},
   "outputs": [],
   "source": [
    "df = pd.read_csv(\n",
    "    'loans.txt', sep='\\t', encoding='1251', index_col=\"Код\", usecols=[i for i in columns if i != 'Тестовое множество']\n",
    ")"
   ]
  },
  {
   "cell_type": "code",
   "execution_count": 432,
   "metadata": {},
   "outputs": [],
   "source": [
    "# Все категориальные данные в виде строк заменены на цифровые обозначения\n",
    "def coder(df, old_name, new_name):\n",
    "    coder_model = LabelEncoder()\n",
    "    coder_model.fit(df[old_name])\n",
    "    df[new_name] = coder_model.transform(df[old_name])"
   ]
  },
  {
   "cell_type": "code",
   "execution_count": 433,
   "metadata": {},
   "outputs": [],
   "source": [
    "coder(df, \"Проживание\", \"Home\")\n",
    "coder(df, \"Срок проживания в регионе\", \"Period\")\n",
    "coder(df, \"Семейное положение\", \"Status\")\n",
    "coder(df, \"Образование\", \"Degree\")\n",
    "coder(df, \"Стаж работы на последнем месте\", \"WorkExperience\")\n",
    "coder(df, \"Уровень должности\", \"Position\")\n",
    "coder(df, \"Кредитная история\", \"History\")"
   ]
  },
  {
   "cell_type": "code",
   "execution_count": 434,
   "metadata": {},
   "outputs": [],
   "source": [
    "target = \"Просрочки свыше 60 дн.\"\n",
    "features = [\"ОД, %\", \"Period\", \"Status\", \"Degree\", \"WorkExperience\", \"Position\", \"History\", \"Home\"]"
   ]
  },
  {
   "cell_type": "code",
   "execution_count": 435,
   "metadata": {},
   "outputs": [],
   "source": [
    "X_train, X_test, y_train, y_test = train_test_split(df[features], df[target], random_state=42)"
   ]
  },
  {
   "cell_type": "code",
   "execution_count": 436,
   "metadata": {},
   "outputs": [
    {
     "name": "stdout",
     "output_type": "stream",
     "text": [
      "Точность на обучающей выборке: 0.9532250123092073\n",
      "Точность на тестовой выборке: 0.8657817109144543\n"
     ]
    }
   ],
   "source": [
    "forest = RandomForestClassifier(random_state=42, max_depth=10, n_estimators=50, max_features=len(features))\n",
    "forest.fit(X_train, y_train)\n",
    "print(f\"Точность на обучающей выборке: {forest.score(X_train, y_train)}\")\n",
    "print(f\"Точность на тестовой выборке: {forest.score(X_test, y_test)}\")"
   ]
  },
  {
   "cell_type": "code",
   "execution_count": 437,
   "metadata": {},
   "outputs": [
    {
     "name": "stdout",
     "output_type": "stream",
     "text": [
      "[0.58878505 0.55952381 0.62827225 0.51891892 0.54761905]\n",
      "0.5686238148199297\n"
     ]
    }
   ],
   "source": [
    "score = cross_val_score(forest, df[features], df[target], cv=5, scoring='f1')\n",
    "print(score)\n",
    "print(score.mean())"
   ]
  },
  {
   "cell_type": "code",
   "execution_count": 438,
   "metadata": {},
   "outputs": [
    {
     "name": "stdout",
     "output_type": "stream",
     "text": [
      "accuracy: 0.8657817109144543\n",
      "precision: 0.6226415094339622\n",
      "recall: 0.5641025641025641\n",
      "F-measure: 0.5919282511210763\n",
      "roc-auc: 0.746400658165364\n",
      "              precision    recall  f1-score   support\n",
      "\n",
      "           0       0.91      0.93      0.92       561\n",
      "           1       0.62      0.56      0.59       117\n",
      "\n",
      "    accuracy                           0.87       678\n",
      "   macro avg       0.77      0.75      0.76       678\n",
      "weighted avg       0.86      0.87      0.86       678\n",
      "\n"
     ]
    },
    {
     "data": {
      "image/png": "[encoded data removed]",
      "text/plain": [
       "<Figure size 432x288 with 1 Axes>"
      ]
     },
     "metadata": {
      "needs_background": "light"
     },
     "output_type": "display_data"
    }
   ],
   "source": [
    "use_metrics(y_test, forest.predict(X_test))"
   ]
  },
  {
   "cell_type": "code",
   "execution_count": 439,
   "metadata": {},
   "outputs": [
    {
     "name": "stdout",
     "output_type": "stream",
     "text": [
      "Точность на обучающей выборке: 0.82767109798129\n",
      "Точность на тестовой выборке: 0.8362831858407079\n",
      "accuracy: 0.8362831858407079\n",
      "precision: 0.6\n",
      "recall: 0.15384615384615385\n",
      "F-measure: 0.2448979591836735\n",
      "roc-auc: 0.5662278897573014\n",
      "              precision    recall  f1-score   support\n",
      "\n",
      "           0       0.85      0.98      0.91       561\n",
      "           1       0.60      0.15      0.24       117\n",
      "\n",
      "    accuracy                           0.84       678\n",
      "   macro avg       0.72      0.57      0.58       678\n",
      "weighted avg       0.80      0.84      0.79       678\n",
      "\n"
     ]
    },
    {
     "data": {
      "image/png": "[encoded data removed]",
      "text/plain": [
       "<Figure size 432x288 with 1 Axes>"
      ]
     },
     "metadata": {
      "needs_background": "light"
     },
     "output_type": "display_data"
    }
   ],
   "source": [
    "scaler = MinMaxScaler()\n",
    "scaler.fit(X_train)\n",
    "X_train_scaled = scaler.transform(X_train)\n",
    "X_test_scaled = scaler.transform(X_test)\n",
    "\n",
    "logreg = LogisticRegression(solver='lbfgs')\n",
    "logreg.fit(X_train_scaled, y_train)\n",
    "print(f\"Точность на обучающей выборке: {logreg.score(X_train_scaled, y_train)}\")\n",
    "print(f\"Точность на тестовой выборке: {logreg.score(X_test_scaled, y_test)}\")\n",
    "pred = logreg.predict(X_test_scaled)\n",
    "use_metrics(y_test, pred)"
   ]
  },
  {
   "cell_type": "markdown",
   "metadata": {},
   "source": [
    "# Формирование dummi переменных"
   ]
  },
  {
   "cell_type": "markdown",
   "metadata": {},
   "source": [
    "Замена столбцов с категориальными данными dummi-переменными"
   ]
  },
  {
   "cell_type": "code",
   "execution_count": 440,
   "metadata": {},
   "outputs": [],
   "source": [
    "df = pd.get_dummies(df, columns=[\"Home\", \"Period\", \"Status\", \"Degree\", \"WorkExperience\", \"Position\", \"History\"])\n",
    "target = \"Просрочки свыше 60 дн.\"\n",
    "features = [i for i in df if i not in columns]\n",
    "features.append(\"ОД, %\")\n",
    "features.append(\"Возраст\")"
   ]
  },
  {
   "cell_type": "code",
   "execution_count": 441,
   "metadata": {},
   "outputs": [],
   "source": [
    "X_train, X_test, y_train, y_test = train_test_split(df[features], df[target], random_state=42)"
   ]
  },
  {
   "cell_type": "markdown",
   "metadata": {},
   "source": [
    "## Ансамбль деревьев решений "
   ]
  },
  {
   "cell_type": "code",
   "execution_count": 442,
   "metadata": {},
   "outputs": [
    {
     "name": "stdout",
     "output_type": "stream",
     "text": [
      "Точность на обучающей выборке: 0.9985228951255539\n",
      "Точность на тестовой выборке: 0.8657817109144543\n"
     ]
    }
   ],
   "source": [
    "forest = RandomForestClassifier(random_state=42, max_depth=13, n_estimators=100, max_features=len(features))\n",
    "forest.fit(X_train, y_train)\n",
    "print(f\"Точность на обучающей выборке: {forest.score(X_train, y_train)}\")\n",
    "print(f\"Точность на тестовой выборке: {forest.score(X_test, y_test)}\")"
   ]
  },
  {
   "cell_type": "code",
   "execution_count": 443,
   "metadata": {},
   "outputs": [
    {
     "name": "stdout",
     "output_type": "stream",
     "text": [
      "[0.55502392 0.57668712 0.61538462 0.58510638 0.58823529]\n",
      "0.5840874664980757\n"
     ]
    }
   ],
   "source": [
    "score = cross_val_score(forest, df[features], df[target], cv=5, scoring='f1')\n",
    "print(score)\n",
    "print(score.mean())"
   ]
  },
  {
   "cell_type": "code",
   "execution_count": 444,
   "metadata": {},
   "outputs": [
    {
     "name": "stdout",
     "output_type": "stream",
     "text": [
      "accuracy: 0.8657817109144543\n",
      "precision: 0.6382978723404256\n",
      "recall: 0.5128205128205128\n",
      "F-measure: 0.5687203791469194\n",
      "roc-auc: 0.7261072261072261\n",
      "              precision    recall  f1-score   support\n",
      "\n",
      "           0       0.90      0.94      0.92       561\n",
      "           1       0.64      0.51      0.57       117\n",
      "\n",
      "    accuracy                           0.87       678\n",
      "   macro avg       0.77      0.73      0.74       678\n",
      "weighted avg       0.86      0.87      0.86       678\n",
      "\n"
     ]
    },
    {
     "data": {
      "image/png": "[encoded data removed]",
      "text/plain": [
       "<Figure size 432x288 with 1 Axes>"
      ]
     },
     "metadata": {
      "needs_background": "light"
     },
     "output_type": "display_data"
    }
   ],
   "source": [
    "pred = forest.predict(X_test)\n",
    "use_metrics(y_test, pred)"
   ]
  },
  {
   "cell_type": "markdown",
   "metadata": {},
   "source": [
    "## Логистическая регрессия "
   ]
  },
  {
   "cell_type": "code",
   "execution_count": 445,
   "metadata": {},
   "outputs": [],
   "source": [
    "scaler = MinMaxScaler()\n",
    "scaler.fit(X_train)\n",
    "X_train_scaled = scaler.transform(X_train)\n",
    "X_test_scaled = scaler.transform(X_test)"
   ]
  },
  {
   "cell_type": "code",
   "execution_count": 446,
   "metadata": {},
   "outputs": [
    {
     "name": "stdout",
     "output_type": "stream",
     "text": [
      "Точность на обучающей выборке: 0.8714918759231906\n",
      "Точность на тестовой выборке: 0.8613569321533924\n",
      "accuracy: 0.8613569321533924\n",
      "precision: 0.6533333333333333\n",
      "recall: 0.4188034188034188\n",
      "F-measure: 0.5104166666666666\n",
      "roc-auc: 0.6862288038758627\n",
      "              precision    recall  f1-score   support\n",
      "\n",
      "           0       0.89      0.95      0.92       561\n",
      "           1       0.65      0.42      0.51       117\n",
      "\n",
      "    accuracy                           0.86       678\n",
      "   macro avg       0.77      0.69      0.71       678\n",
      "weighted avg       0.85      0.86      0.85       678\n",
      "\n"
     ]
    },
    {
     "data": {
      "image/png": "[encoded data removed]",
      "text/plain": [
       "<Figure size 432x288 with 1 Axes>"
      ]
     },
     "metadata": {
      "needs_background": "light"
     },
     "output_type": "display_data"
    }
   ],
   "source": [
    "logreg = LogisticRegression(solver='lbfgs')\n",
    "logreg.fit(X_train_scaled, y_train)\n",
    "print(f\"Точность на обучающей выборке: {logreg.score(X_train_scaled, y_train)}\")\n",
    "print(f\"Точность на тестовой выборке: {logreg.score(X_test_scaled, y_test)}\")\n",
    "pred = logreg.predict(X_test_scaled)\n",
    "use_metrics(y_test, pred)"
   ]
  },
  {
   "cell_type": "markdown",
   "metadata": {},
   "source": [
    "# Over Sampling"
   ]
  },
  {
   "cell_type": "code",
   "execution_count": 447,
   "metadata": {},
   "outputs": [],
   "source": [
    "X_train, X_test, y_train, y_test = train_test_split(df[features], df[target], random_state=42, test_size=0.25)"
   ]
  },
  {
   "cell_type": "code",
   "execution_count": 448,
   "metadata": {},
   "outputs": [],
   "source": [
    "X_train_samples = X_train[X_train.index.isin(y_train[y_train == 1].index )]"
   ]
  },
  {
   "cell_type": "code",
   "execution_count": 449,
   "metadata": {},
   "outputs": [],
   "source": [
    "X_train = pd.concat(sum(([X_train], [X_train_samples] * 3), []))\n",
    "y_train = pd.concat(sum(([y_train], [y_train[y_train == 1]] * 3), []))"
   ]
  },
  {
   "cell_type": "markdown",
   "metadata": {},
   "source": [
    "## Ансамбль деревьев решений"
   ]
  },
  {
   "cell_type": "code",
   "execution_count": 450,
   "metadata": {},
   "outputs": [
    {
     "name": "stdout",
     "output_type": "stream",
     "text": [
      "Точность на обучающей выборке: 0.9182389937106918\n",
      "Точность на тестовой выборке: 0.8657817109144543\n"
     ]
    }
   ],
   "source": [
    "forest = RandomForestClassifier(random_state=42, max_depth=8, n_estimators=101)\n",
    "forest.fit(X_train, y_train)\n",
    "print(f\"Точность на обучающей выборке: {forest.score(X_train, y_train)}\")\n",
    "print(f\"Точность на тестовой выборке: {forest.score(X_test, y_test)}\")"
   ]
  },
  {
   "cell_type": "code",
   "execution_count": 451,
   "metadata": {},
   "outputs": [
    {
     "name": "stdout",
     "output_type": "stream",
     "text": [
      "accuracy: 0.8657817109144543\n",
      "precision: 0.58125\n",
      "recall: 0.7948717948717948\n",
      "F-measure: 0.6714801444043321\n",
      "roc-auc: 0.8377211024269847\n",
      "              precision    recall  f1-score   support\n",
      "\n",
      "           0       0.95      0.88      0.92       561\n",
      "           1       0.58      0.79      0.67       117\n",
      "\n",
      "    accuracy                           0.87       678\n",
      "   macro avg       0.77      0.84      0.79       678\n",
      "weighted avg       0.89      0.87      0.87       678\n",
      "\n"
     ]
    },
    {
     "data": {
      "image/png": "[encoded data removed]",
      "text/plain": [
       "<Figure size 432x288 with 1 Axes>"
      ]
     },
     "metadata": {
      "needs_background": "light"
     },
     "output_type": "display_data"
    }
   ],
   "source": [
    "pred = forest.predict(X_test)\n",
    "use_metrics(y_test, pred)"
   ]
  },
  {
   "cell_type": "code",
   "execution_count": 452,
   "metadata": {},
   "outputs": [],
   "source": [
    "scaler = MinMaxScaler()\n",
    "scaler.fit(X_train)\n",
    "X_train_scaled = scaler.transform(X_train)\n",
    "X_test_scaled = scaler.transform(X_test)"
   ]
  },
  {
   "cell_type": "markdown",
   "metadata": {},
   "source": [
    "## Логистическая регрессия"
   ]
  },
  {
   "cell_type": "code",
   "execution_count": 453,
   "metadata": {},
   "outputs": [
    {
     "name": "stdout",
     "output_type": "stream",
     "text": [
      "Точность на обучающей выборке: 0.8553459119496856\n",
      "Точность на тестовой выборке: 0.8377581120943953\n",
      "accuracy: 0.8377581120943953\n",
      "precision: 0.517948717948718\n",
      "recall: 0.8632478632478633\n",
      "F-measure: 0.6474358974358976\n",
      "roc-auc: 0.8478449654920243\n",
      "              precision    recall  f1-score   support\n",
      "\n",
      "           0       0.97      0.83      0.89       561\n",
      "           1       0.52      0.86      0.65       117\n",
      "\n",
      "    accuracy                           0.84       678\n",
      "   macro avg       0.74      0.85      0.77       678\n",
      "weighted avg       0.89      0.84      0.85       678\n",
      "\n"
     ]
    },
    {
     "data": {
      "image/png": "[encoded data removed]",
      "text/plain": [
       "<Figure size 432x288 with 1 Axes>"
      ]
     },
     "metadata": {
      "needs_background": "light"
     },
     "output_type": "display_data"
    }
   ],
   "source": [
    "logreg = LogisticRegression(solver='lbfgs')\n",
    "logreg.fit(X_train_scaled, y_train)\n",
    "print(f\"Точность на обучающей выборке: {logreg.score(X_train_scaled, y_train)}\")\n",
    "print(f\"Точность на тестовой выборке: {logreg.score(X_test_scaled, y_test)}\")\n",
    "pred = logreg.predict(X_test_scaled)\n",
    "use_metrics(y_test, pred)"
   ]
  }
 ],
 "metadata": {
  "kernelspec": {
   "display_name": "Python 3",
   "language": "python",
   "name": "python3"
  },
  "language_info": {
   "codemirror_mode": {
    "name": "ipython",
    "version": 3
   },
   "file_extension": ".py",
   "mimetype": "text/x-python",
   "name": "python",
   "nbconvert_exporter": "python",
   "pygments_lexer": "ipython3",
   "version": "3.7.4"
  }
 },
 "nbformat": 4,
 "nbformat_minor": 2
}
