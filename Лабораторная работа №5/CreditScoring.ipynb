{
 "cells": [
  {
   "cell_type": "code",
   "execution_count": 1113,
   "metadata": {},
   "outputs": [],
   "source": [
    "import numpy as np\n",
    "import pandas as pd\n",
    "from matplotlib import pyplot as plt\n",
    "\n",
    "from sklearn.model_selection import train_test_split, cross_val_score\n",
    "from sklearn.preprocessing import LabelEncoder\n",
    "from sklearn.ensemble import RandomForestClassifier, BaggingClassifier, GradientBoostingClassifier\n",
    "from sklearn.tree import DecisionTreeClassifier\n",
    "from sklearn.linear_model import LogisticRegression\n",
    "from sklearn.metrics import confusion_matrix, average_precision_score, f1_score, roc_auc_score\n",
    "from sklearn.preprocessing import MinMaxScaler\n",
    "from sklearn.neighbors import KNeighborsClassifier\n",
    "from sklearn.neural_network import MLPClassifier\n",
    "from sklearn.feature_selection import SelectFromModel\n",
    "from sklearn.svm import SVC\n",
    "from sklearn.neural_network import MLPClassifier\n",
    "from sklearn.model_selection import GridSearchCV"
   ]
  },
  {
   "cell_type": "markdown",
   "metadata": {},
   "source": [
    "# Загрузка и предварительная обработка данных"
   ]
  },
  {
   "cell_type": "code",
   "execution_count": 1114,
   "metadata": {},
   "outputs": [],
   "source": [
    "columns = pd.read_csv('loans.txt', sep='\\t', encoding='1251', nrows=0).columns"
   ]
  },
  {
   "cell_type": "code",
   "execution_count": 1115,
   "metadata": {},
   "outputs": [
    {
     "data": {
      "text/plain": [
       "Index(['Код', 'Дата', 'ОД, %', 'Возраст', 'Проживание',\n",
       "       'Срок проживания в регионе', 'Семейное положение', 'Образование',\n",
       "       'Стаж работы на последнем месте', 'Уровень должности',\n",
       "       'Кредитная история', 'Просрочки свыше 60 дн.', 'Тестовое множество'],\n",
       "      dtype='object')"
      ]
     },
     "execution_count": 1115,
     "metadata": {},
     "output_type": "execute_result"
    }
   ],
   "source": [
    "columns"
   ]
  },
  {
   "cell_type": "code",
   "execution_count": 1116,
   "metadata": {},
   "outputs": [],
   "source": [
    "df = pd.read_csv(\n",
    "    'loans.txt', sep='\\t', encoding='1251', usecols=[i for i in columns if i != 'Тестовое множество']\n",
    ")"
   ]
  },
  {
   "cell_type": "code",
   "execution_count": 1117,
   "metadata": {},
   "outputs": [
    {
     "data": {
      "text/html": [
       "<div>\n",
       "<style scoped>\n",
       "    .dataframe tbody tr th:only-of-type {\n",
       "        vertical-align: middle;\n",
       "    }\n",
       "\n",
       "    .dataframe tbody tr th {\n",
       "        vertical-align: top;\n",
       "    }\n",
       "\n",
       "    .dataframe thead th {\n",
       "        text-align: right;\n",
       "    }\n",
       "</style>\n",
       "<table border=\"1\" class=\"dataframe\">\n",
       "  <thead>\n",
       "    <tr style=\"text-align: right;\">\n",
       "      <th></th>\n",
       "      <th>Код</th>\n",
       "    </tr>\n",
       "    <tr>\n",
       "      <th>Просрочки свыше 60 дн.</th>\n",
       "      <th></th>\n",
       "    </tr>\n",
       "  </thead>\n",
       "  <tbody>\n",
       "    <tr>\n",
       "      <td>0</td>\n",
       "      <td>2209</td>\n",
       "    </tr>\n",
       "    <tr>\n",
       "      <td>1</td>\n",
       "      <td>500</td>\n",
       "    </tr>\n",
       "  </tbody>\n",
       "</table>\n",
       "</div>"
      ],
      "text/plain": [
       "                         Код\n",
       "Просрочки свыше 60 дн.      \n",
       "0                       2209\n",
       "1                        500"
      ]
     },
     "execution_count": 1117,
     "metadata": {},
     "output_type": "execute_result"
    }
   ],
   "source": [
    "df[[\"Код\", \"Просрочки свыше 60 дн.\"]].groupby([\"Просрочки свыше 60 дн.\"]).count()"
   ]
  },
  {
   "cell_type": "code",
   "execution_count": 1118,
   "metadata": {},
   "outputs": [
    {
     "data": {
      "text/html": [
       "<div>\n",
       "<style scoped>\n",
       "    .dataframe tbody tr th:only-of-type {\n",
       "        vertical-align: middle;\n",
       "    }\n",
       "\n",
       "    .dataframe tbody tr th {\n",
       "        vertical-align: top;\n",
       "    }\n",
       "\n",
       "    .dataframe thead th {\n",
       "        text-align: right;\n",
       "    }\n",
       "</style>\n",
       "<table border=\"1\" class=\"dataframe\">\n",
       "  <thead>\n",
       "    <tr style=\"text-align: right;\">\n",
       "      <th></th>\n",
       "      <th>Код</th>\n",
       "      <th>Дата</th>\n",
       "      <th>ОД, %</th>\n",
       "      <th>Возраст</th>\n",
       "      <th>Проживание</th>\n",
       "      <th>Срок проживания в регионе</th>\n",
       "      <th>Семейное положение</th>\n",
       "      <th>Образование</th>\n",
       "      <th>Стаж работы на последнем месте</th>\n",
       "      <th>Уровень должности</th>\n",
       "      <th>Кредитная история</th>\n",
       "      <th>Просрочки свыше 60 дн.</th>\n",
       "    </tr>\n",
       "  </thead>\n",
       "  <tbody>\n",
       "    <tr>\n",
       "      <td>0</td>\n",
       "      <td>1</td>\n",
       "      <td>02.03.2007</td>\n",
       "      <td>51</td>\n",
       "      <td>26</td>\n",
       "      <td>Муниципальное жилье</td>\n",
       "      <td>менее 1 года</td>\n",
       "      <td>Другое</td>\n",
       "      <td>высшее</td>\n",
       "      <td>менее 1 года</td>\n",
       "      <td>сотрудник</td>\n",
       "      <td>нет данных</td>\n",
       "      <td>1</td>\n",
       "    </tr>\n",
       "    <tr>\n",
       "      <td>1</td>\n",
       "      <td>2</td>\n",
       "      <td>02.03.2007</td>\n",
       "      <td>46</td>\n",
       "      <td>32</td>\n",
       "      <td>Собственник</td>\n",
       "      <td>от 1 до 5 лет</td>\n",
       "      <td>Женат/замужем</td>\n",
       "      <td>высшее</td>\n",
       "      <td>свыше 3 лет</td>\n",
       "      <td>сотрудник</td>\n",
       "      <td>положительная</td>\n",
       "      <td>0</td>\n",
       "    </tr>\n",
       "    <tr>\n",
       "      <td>2</td>\n",
       "      <td>3</td>\n",
       "      <td>02.03.2007</td>\n",
       "      <td>13</td>\n",
       "      <td>36</td>\n",
       "      <td>Аренда</td>\n",
       "      <td>свыше 5 лет</td>\n",
       "      <td>Холост/Не замужем</td>\n",
       "      <td>среднее специальное</td>\n",
       "      <td>от 1 года до 3 лет</td>\n",
       "      <td>сотрудник</td>\n",
       "      <td>нет данных</td>\n",
       "      <td>0</td>\n",
       "    </tr>\n",
       "    <tr>\n",
       "      <td>3</td>\n",
       "      <td>4</td>\n",
       "      <td>02.03.2007</td>\n",
       "      <td>48</td>\n",
       "      <td>52</td>\n",
       "      <td>Муниципальное жилье</td>\n",
       "      <td>от 1 до 5 лет</td>\n",
       "      <td>Другое</td>\n",
       "      <td>высшее</td>\n",
       "      <td>менее 1 года</td>\n",
       "      <td>сотрудник</td>\n",
       "      <td>нет данных</td>\n",
       "      <td>1</td>\n",
       "    </tr>\n",
       "    <tr>\n",
       "      <td>4</td>\n",
       "      <td>5</td>\n",
       "      <td>02.03.2007</td>\n",
       "      <td>33</td>\n",
       "      <td>30</td>\n",
       "      <td>Собственник</td>\n",
       "      <td>от 1 до 5 лет</td>\n",
       "      <td>Холост/Не замужем</td>\n",
       "      <td>среднее специальное</td>\n",
       "      <td>менее 1 года</td>\n",
       "      <td>сотрудник</td>\n",
       "      <td>нет данных</td>\n",
       "      <td>0</td>\n",
       "    </tr>\n",
       "  </tbody>\n",
       "</table>\n",
       "</div>"
      ],
      "text/plain": [
       "   Код        Дата  ОД, %  Возраст           Проживание  \\\n",
       "0    1  02.03.2007     51       26  Муниципальное жилье   \n",
       "1    2  02.03.2007     46       32          Собственник   \n",
       "2    3  02.03.2007     13       36               Аренда   \n",
       "3    4  02.03.2007     48       52  Муниципальное жилье   \n",
       "4    5  02.03.2007     33       30          Собственник   \n",
       "\n",
       "  Срок проживания в регионе Семейное положение          Образование  \\\n",
       "0              менее 1 года             Другое               высшее   \n",
       "1             от 1 до 5 лет      Женат/замужем               высшее   \n",
       "2               свыше 5 лет  Холост/Не замужем  среднее специальное   \n",
       "3             от 1 до 5 лет             Другое               высшее   \n",
       "4             от 1 до 5 лет  Холост/Не замужем  среднее специальное   \n",
       "\n",
       "  Стаж работы на последнем месте Уровень должности Кредитная история  \\\n",
       "0                   менее 1 года         сотрудник        нет данных   \n",
       "1                    свыше 3 лет         сотрудник     положительная   \n",
       "2             от 1 года до 3 лет         сотрудник        нет данных   \n",
       "3                   менее 1 года         сотрудник        нет данных   \n",
       "4                   менее 1 года         сотрудник        нет данных   \n",
       "\n",
       "   Просрочки свыше 60 дн.  \n",
       "0                       1  \n",
       "1                       0  \n",
       "2                       0  \n",
       "3                       1  \n",
       "4                       0  "
      ]
     },
     "execution_count": 1118,
     "metadata": {},
     "output_type": "execute_result"
    }
   ],
   "source": [
    "df.head()"
   ]
  },
  {
   "cell_type": "code",
   "execution_count": 1119,
   "metadata": {},
   "outputs": [],
   "source": [
    "# Sampling\n",
    "# df = df[(df[\"Просрочки свыше 60 дн.\"] == 1) | ((df[\"Просрочки свыше 60 дн.\"] == 0) & (df[\"Код\"] < 1500))]"
   ]
  },
  {
   "cell_type": "code",
   "execution_count": 1120,
   "metadata": {},
   "outputs": [],
   "source": [
    "def coder(df, old_name, new_name):\n",
    "    coder_model = LabelEncoder()\n",
    "    coder_model.fit(df[old_name])\n",
    "    df[new_name] = coder_model.transform(df[old_name])\n",
    "    "
   ]
  },
  {
   "cell_type": "code",
   "execution_count": 1121,
   "metadata": {},
   "outputs": [],
   "source": [
    "coder(df, \"Проживание\", \"Home\")\n",
    "coder(df, \"Срок проживания в регионе\", \"Period\")\n",
    "coder(df, \"Семейное положение\", \"Status\")\n",
    "coder(df, \"Образование\", \"Degree\")\n",
    "coder(df, \"Стаж работы на последнем месте\", \"WorkExperience\")\n",
    "coder(df, \"Уровень должности\", \"Position\")\n",
    "coder(df, \"Кредитная история\", \"History\")"
   ]
  },
  {
   "cell_type": "code",
   "execution_count": 1122,
   "metadata": {},
   "outputs": [],
   "source": [
    "target = \"Просрочки свыше 60 дн.\"\n",
    "features = [\"ОД, %\", 'Возраст', \"Period\", \"Status\", \"Degree\", \"WorkExperience\", \"History\", \"Home\"]"
   ]
  },
  {
   "cell_type": "markdown",
   "metadata": {},
   "source": [
    "# Построение модели на исходных данных"
   ]
  },
  {
   "cell_type": "code",
   "execution_count": 1123,
   "metadata": {},
   "outputs": [],
   "source": [
    "X_train, X_test, y_train, y_test = train_test_split(df[features], df[target], random_state=42, test_size=0.25)"
   ]
  },
  {
   "cell_type": "code",
   "execution_count": 1124,
   "metadata": {},
   "outputs": [
    {
     "name": "stdout",
     "output_type": "stream",
     "text": [
      "Точность на обучающей выборке: 0.999507631708518\n",
      "Точность на тестовой выборке: 0.8643067846607669\n"
     ]
    }
   ],
   "source": [
    "forest = RandomForestClassifier(random_state=42, max_depth=15, n_estimators=500, max_features=len(features))\n",
    "forest.fit(X_train, y_train)\n",
    "print(f\"Точность на обучающей выборке: {forest.score(X_train, y_train)}\")\n",
    "print(f\"Точность на тестовой выборке: {forest.score(X_test, y_test)}\")"
   ]
  },
  {
   "cell_type": "code",
   "execution_count": 1125,
   "metadata": {},
   "outputs": [
    {
     "name": "stdout",
     "output_type": "stream",
     "text": [
      "[0.85424354 0.86900369 0.87822878 0.84501845 0.85582255]\n",
      "0.8604634031552884\n"
     ]
    }
   ],
   "source": [
    "score = cross_val_score(forest, df[features], df[target], cv=5)\n",
    "print(score)\n",
    "print(score.mean())"
   ]
  },
  {
   "cell_type": "code",
   "execution_count": 1126,
   "metadata": {},
   "outputs": [
    {
     "name": "stdout",
     "output_type": "stream",
     "text": [
      "[[528  33]\n",
      " [ 59  58]]\n",
      "0.5576923076923077\n"
     ]
    }
   ],
   "source": [
    "pred = forest.predict(X_test)\n",
    "print(confusion_matrix(y_test, pred))\n",
    "print(f1_score(y_test, pred))"
   ]
  },
  {
   "cell_type": "code",
   "execution_count": 1127,
   "metadata": {},
   "outputs": [
    {
     "data": {
      "text/plain": [
       "0.5525017174527251"
      ]
     },
     "execution_count": 1127,
     "metadata": {},
     "output_type": "execute_result"
    }
   ],
   "source": [
    "average_precision_score(y_test, forest.predict_proba(X_test)[:, 1])"
   ]
  },
  {
   "cell_type": "code",
   "execution_count": 1128,
   "metadata": {},
   "outputs": [
    {
     "data": {
      "text/plain": [
       "0.8493151728445846"
      ]
     },
     "execution_count": 1128,
     "metadata": {},
     "output_type": "execute_result"
    }
   ],
   "source": [
    "roc_auc_score(y_test, forest.predict_proba(X_test)[:, 1])"
   ]
  },
  {
   "cell_type": "code",
   "execution_count": 1129,
   "metadata": {},
   "outputs": [
    {
     "name": "stdout",
     "output_type": "stream",
     "text": [
      "Точность на обучающей выборке: 0.9487936976858691\n",
      "Точность на тестовой выборке: 0.8348082595870207\n"
     ]
    }
   ],
   "source": [
    "dtree = DecisionTreeClassifier(random_state=42, max_depth=10)\n",
    "dtree.fit(X_train, y_train)\n",
    "print(f\"Точность на обучающей выборке: {dtree.score(X_train, y_train)}\")\n",
    "print(f\"Точность на тестовой выборке: {dtree.score(X_test, y_test)}\")"
   ]
  },
  {
   "cell_type": "code",
   "execution_count": 1130,
   "metadata": {},
   "outputs": [
    {
     "name": "stdout",
     "output_type": "stream",
     "text": [
      "[[514  47]\n",
      " [ 65  52]]\n"
     ]
    }
   ],
   "source": [
    "pred = dtree.predict(X_test)\n",
    "print(confusion_matrix(y_test, pred))"
   ]
  },
  {
   "cell_type": "code",
   "execution_count": 1131,
   "metadata": {},
   "outputs": [
    {
     "name": "stdout",
     "output_type": "stream",
     "text": [
      "[0.80442804 0.80258303 0.84686347 0.8099631  0.83548983]\n",
      "0.8198654944035578\n"
     ]
    }
   ],
   "source": [
    "score = cross_val_score(dtree, df[features], df[target], cv=5)\n",
    "print(score)\n",
    "print(score.mean())"
   ]
  },
  {
   "cell_type": "code",
   "execution_count": 1132,
   "metadata": {},
   "outputs": [
    {
     "name": "stdout",
     "output_type": "stream",
     "text": [
      "Точность на обучающей выборке: 0.9699655342195963\n",
      "Точность на тестовой выборке: 0.8672566371681416\n"
     ]
    }
   ],
   "source": [
    "bag = BaggingClassifier(dtree, n_estimators=40, random_state=0)\n",
    "bag.fit(X_train, y_train)\n",
    "print(f\"Точность на обучающей выборке: {bag.score(X_train, y_train)}\")\n",
    "print(f\"Точность на тестовой выборке: {bag.score(X_test, y_test)}\")"
   ]
  },
  {
   "cell_type": "code",
   "execution_count": 1133,
   "metadata": {},
   "outputs": [
    {
     "name": "stdout",
     "output_type": "stream",
     "text": [
      "[[531  30]\n",
      " [ 60  57]]\n"
     ]
    }
   ],
   "source": [
    "pred = bag.predict(X_test)\n",
    "print(confusion_matrix(y_test, pred))"
   ]
  },
  {
   "cell_type": "code",
   "execution_count": 1134,
   "metadata": {},
   "outputs": [
    {
     "name": "stdout",
     "output_type": "stream",
     "text": [
      "[0.85608856 0.86346863 0.86715867 0.84317343 0.85767098]\n",
      "0.8575120557120544\n"
     ]
    }
   ],
   "source": [
    "score = cross_val_score(bag, df[features], df[target], cv=5)\n",
    "print(score)\n",
    "print(score.mean())"
   ]
  },
  {
   "cell_type": "markdown",
   "metadata": {},
   "source": [
    "# Over Sampling"
   ]
  },
  {
   "cell_type": "code",
   "execution_count": 1135,
   "metadata": {},
   "outputs": [],
   "source": [
    "# Over Sampling\n",
    "\n",
    "# df_1 = df[df[\"Просрочки свыше 60 дн.\"] == 1]"
   ]
  },
  {
   "cell_type": "code",
   "execution_count": 1136,
   "metadata": {},
   "outputs": [],
   "source": [
    "# df = pd.concat(sum(([df], [df_1] * 2), []))"
   ]
  },
  {
   "cell_type": "code",
   "execution_count": 1137,
   "metadata": {},
   "outputs": [
    {
     "data": {
      "text/html": [
       "<div>\n",
       "<style scoped>\n",
       "    .dataframe tbody tr th:only-of-type {\n",
       "        vertical-align: middle;\n",
       "    }\n",
       "\n",
       "    .dataframe tbody tr th {\n",
       "        vertical-align: top;\n",
       "    }\n",
       "\n",
       "    .dataframe thead th {\n",
       "        text-align: right;\n",
       "    }\n",
       "</style>\n",
       "<table border=\"1\" class=\"dataframe\">\n",
       "  <thead>\n",
       "    <tr style=\"text-align: right;\">\n",
       "      <th></th>\n",
       "      <th>Код</th>\n",
       "    </tr>\n",
       "    <tr>\n",
       "      <th>Просрочки свыше 60 дн.</th>\n",
       "      <th></th>\n",
       "    </tr>\n",
       "  </thead>\n",
       "  <tbody>\n",
       "    <tr>\n",
       "      <td>0</td>\n",
       "      <td>2209</td>\n",
       "    </tr>\n",
       "    <tr>\n",
       "      <td>1</td>\n",
       "      <td>500</td>\n",
       "    </tr>\n",
       "  </tbody>\n",
       "</table>\n",
       "</div>"
      ],
      "text/plain": [
       "                         Код\n",
       "Просрочки свыше 60 дн.      \n",
       "0                       2209\n",
       "1                        500"
      ]
     },
     "execution_count": 1137,
     "metadata": {},
     "output_type": "execute_result"
    }
   ],
   "source": [
    "df[[\"Код\", \"Просрочки свыше 60 дн.\"]].groupby([\"Просрочки свыше 60 дн.\"]).count()"
   ]
  },
  {
   "cell_type": "code",
   "execution_count": 1138,
   "metadata": {},
   "outputs": [],
   "source": [
    "X_train, X_test, y_train, y_test = train_test_split(df[features], df[target], random_state=42, test_size=0.25)"
   ]
  },
  {
   "cell_type": "code",
   "execution_count": 1139,
   "metadata": {},
   "outputs": [],
   "source": [
    "X_train_samples = X_train[X_train.index.isin(y_train[y_train == 1].index )]"
   ]
  },
  {
   "cell_type": "code",
   "execution_count": 1140,
   "metadata": {},
   "outputs": [],
   "source": [
    "X_train = pd.concat(sum(([X_train], [X_train_samples] * 2), []))\n",
    "y_train = pd.concat(sum(([y_train], [y_train[y_train == 1]] * 2), []))"
   ]
  },
  {
   "cell_type": "code",
   "execution_count": 1184,
   "metadata": {},
   "outputs": [
    {
     "name": "stdout",
     "output_type": "stream",
     "text": [
      "Точность на обучающей выборке: 0.9163389345727565\n",
      "Точность на тестовой выборке: 0.8407079646017699\n"
     ]
    }
   ],
   "source": [
    "forest = RandomForestClassifier(random_state=42, max_depth=8, n_estimators=50, max_features=len(features)-1)\n",
    "forest.fit(X_train, y_train)\n",
    "print(f\"Точность на обучающей выборке: {forest.score(X_train, y_train)}\")\n",
    "print(f\"Точность на тестовой выборке: {forest.score(X_test, y_test)}\")"
   ]
  },
  {
   "cell_type": "code",
   "execution_count": 1185,
   "metadata": {},
   "outputs": [
    {
     "name": "stdout",
     "output_type": "stream",
     "text": [
      "ОД, % 0.1832973585597588\n",
      "Возраст 0.11471191696190941\n",
      "Period 0.09299189159219184\n",
      "Status 0.056299011809126755\n",
      "Degree 0.09318518264445444\n",
      "WorkExperience 0.07566966556184823\n",
      "History 0.2578612842186972\n",
      "Home 0.12598368865201337\n"
     ]
    }
   ],
   "source": [
    "for i, j in zip(features, forest.feature_importances_):\n",
    "    print(i, j)"
   ]
  },
  {
   "cell_type": "code",
   "execution_count": 1186,
   "metadata": {},
   "outputs": [
    {
     "name": "stdout",
     "output_type": "stream",
     "text": [
      "[[490  71]\n",
      " [ 37  80]]\n"
     ]
    }
   ],
   "source": [
    "pred = forest.predict(X_test)\n",
    "print(confusion_matrix(y_test, pred))"
   ]
  },
  {
   "cell_type": "code",
   "execution_count": 1187,
   "metadata": {},
   "outputs": [
    {
     "name": "stdout",
     "output_type": "stream",
     "text": [
      "[0.83763838 0.87822878 0.86900369 0.84132841 0.85582255]\n",
      "0.8564043625648825\n"
     ]
    }
   ],
   "source": [
    "score = cross_val_score(forest, df[features], df[target], cv=5)\n",
    "print(score)\n",
    "print(score.mean())"
   ]
  },
  {
   "cell_type": "code",
   "execution_count": 1175,
   "metadata": {},
   "outputs": [
    {
     "data": {
      "text/plain": [
       "0.5197226304981327"
      ]
     },
     "execution_count": 1175,
     "metadata": {},
     "output_type": "execute_result"
    }
   ],
   "source": [
    "average_precision_score(y_test, forest.predict_proba(X_test)[:, 1])"
   ]
  },
  {
   "cell_type": "code",
   "execution_count": 1146,
   "metadata": {},
   "outputs": [
    {
     "name": "stdout",
     "output_type": "stream",
     "text": [
      "0.5954198473282442\n"
     ]
    }
   ],
   "source": [
    "print(f1_score(y_test, pred))"
   ]
  },
  {
   "cell_type": "code",
   "execution_count": 1147,
   "metadata": {},
   "outputs": [],
   "source": [
    "scaler = MinMaxScaler()\n",
    "scaler.fit(X_train)\n",
    "X_train_scaled = scaler.transform(X_train)\n",
    "X_test_scaled = scaler.transform(X_test)"
   ]
  },
  {
   "cell_type": "code",
   "execution_count": 1,
   "metadata": {},
   "outputs": [
    {
     "ename": "NameError",
     "evalue": "name 'MLPClassifier' is not defined",
     "output_type": "error",
     "traceback": [
      "\u001b[1;31m---------------------------------------------------------------------------\u001b[0m",
      "\u001b[1;31mNameError\u001b[0m                                 Traceback (most recent call last)",
      "\u001b[1;32m<ipython-input-1-68220916f557>\u001b[0m in \u001b[0;36m<module>\u001b[1;34m\u001b[0m\n\u001b[1;32m----> 1\u001b[1;33m mlp = MLPClassifier(\n\u001b[0m\u001b[0;32m      2\u001b[0m     solver='lbfgs', random_state=0, hidden_layer_sizes=[100,10], alpha=1).fit(X_train_scaled, y_train)\n\u001b[0;32m      3\u001b[0m \u001b[0mprint\u001b[0m\u001b[1;33m(\u001b[0m\u001b[1;34mf\"Точность на обучающей выборке: {mlp.score(X_train_scaled, y_train)}\"\u001b[0m\u001b[1;33m)\u001b[0m\u001b[1;33m\u001b[0m\u001b[1;33m\u001b[0m\u001b[0m\n\u001b[0;32m      4\u001b[0m \u001b[0mprint\u001b[0m\u001b[1;33m(\u001b[0m\u001b[1;34mf\"Точность на тестовой выборке: {mlp.score(X_test_scaled, y_test)}\"\u001b[0m\u001b[1;33m)\u001b[0m\u001b[1;33m\u001b[0m\u001b[1;33m\u001b[0m\u001b[0m\n\u001b[0;32m      5\u001b[0m \u001b[0mpred\u001b[0m \u001b[1;33m=\u001b[0m \u001b[0mmlp\u001b[0m\u001b[1;33m.\u001b[0m\u001b[0mpredict\u001b[0m\u001b[1;33m(\u001b[0m\u001b[0mX_test_scaled\u001b[0m\u001b[1;33m)\u001b[0m\u001b[1;33m\u001b[0m\u001b[1;33m\u001b[0m\u001b[0m\n",
      "\u001b[1;31mNameError\u001b[0m: name 'MLPClassifier' is not defined"
     ]
    }
   ],
   "source": [
    "mlp = MLPClassifier(\n",
    "    solver='lbfgs', random_state=0, hidden_layer_sizes=[100,10], alpha=1).fit(X_train_scaled, y_train)\n",
    "print(f\"Точность на обучающей выборке: {mlp.score(X_train_scaled, y_train)}\")\n",
    "print(f\"Точность на тестовой выборке: {mlp.score(X_test_scaled, y_test)}\")\n",
    "pred = mlp.predict(X_test_scaled)\n",
    "print(confusion_matrix(y_test, pred))\n",
    "print(f1_score(y_test, pred))"
   ]
  },
  {
   "cell_type": "code",
   "execution_count": null,
   "metadata": {},
   "outputs": [],
   "source": []
  }
 ],
 "metadata": {
  "kernelspec": {
   "display_name": "Python 3",
   "language": "python",
   "name": "python3"
  },
  "language_info": {
   "codemirror_mode": {
    "name": "ipython",
    "version": 3
   },
   "file_extension": ".py",
   "mimetype": "text/x-python",
   "name": "python",
   "nbconvert_exporter": "python",
   "pygments_lexer": "ipython3",
   "version": "3.7.4"
  }
 },
 "nbformat": 4,
 "nbformat_minor": 2
}
