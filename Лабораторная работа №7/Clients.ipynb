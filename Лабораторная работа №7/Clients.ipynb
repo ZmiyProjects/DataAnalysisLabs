{
 "cells": [
  {
   "cell_type": "code",
   "execution_count": 378,
   "metadata": {},
   "outputs": [],
   "source": [
    "import numpy as np\n",
    "import pandas as pd\n",
    "from matplotlib import pyplot as plt\n",
    "from sklearn.model_selection import train_test_split, cross_val_score, GridSearchCV\n",
    "from sklearn.ensemble import RandomForestClassifier, GradientBoostingClassifier\n",
    "from sklearn.metrics import confusion_matrix, f1_score, accuracy_score, precision_score, recall_score, classification_report\n",
    "from sklearn.preprocessing import LabelEncoder, MinMaxScaler\n",
    "from sklearn.linear_model import LogisticRegression\n",
    "from sklearn.neural_network import MLPClassifier\n",
    "from sklearn.tree import DecisionTreeClassifier"
   ]
  },
  {
   "cell_type": "code",
   "execution_count": 379,
   "metadata": {},
   "outputs": [],
   "source": [
    "# Функция бли визуализации матрицы ошибок\n",
    "def heatmap(values, xlabel, ylabel, xticklabels, yticklabels, cmap=None,\n",
    "            vmin=None, vmax=None, ax=None, fmt=\"%0.2f\"):\n",
    "    if ax is None:\n",
    "        ax = plt.gca()\n",
    "    img = ax.pcolor(values, cmap=cmap, vmin=vmin, vmax=vmax)\n",
    "    img.update_scalarmappable()\n",
    "    ax.set_xlabel(xlabel)\n",
    "    ax.set_ylabel(ylabel)\n",
    "    ax.set_xticks(np.arange(len(xticklabels)) + .5)\n",
    "    ax.set_yticks(np.arange(len(yticklabels)) + .5)\n",
    "    ax.set_xticklabels(xticklabels)\n",
    "    ax.set_yticklabels(yticklabels)\n",
    "    ax.set_aspect(1)\n",
    "\n",
    "    for p, color, value in zip(img.get_paths(), img.get_facecolors(),\n",
    "                               img.get_array()):\n",
    "        x, y = p.vertices[:-2, :].mean(0)\n",
    "        if np.mean(color[:3]) > 0.5:\n",
    "            c = 'k'\n",
    "        else:\n",
    "            c = 'w'\n",
    "        ax.text(x, y, fmt % value, color=c, ha=\"center\", va=\"center\")\n",
    "    return img\n",
    "\n",
    "\n",
    "# Функция для рассчета метрик и дохода\n",
    "def use_metrics(y_test, pred, labels=None):\n",
    "    if labels is None:\n",
    "        labels = [0, 1]\n",
    "    print(f\"accuracy: {accuracy_score(y_test, pred)}\")\n",
    "    print(f\"precision: {precision_score(y_test, pred)}\")\n",
    "    print(f\"recall: {recall_score(y_test, pred)}\")\n",
    "    print(f\"F-measure: {f1_score(y_test, pred)}\")\n",
    "    print(classification_report(y_test, pred))\n",
    "    # matrix = np.rot90(np.rot90(confusion_matrix(y_test, pred), -1), -1)\n",
    "    matrix = confusion_matrix(y_test, pred)\n",
    "    income = matrix[1,1] * (20 - 1 - 9) - matrix[0,1] * 1\n",
    "    print(f\"Доход: {income}\")\n",
    "    scores_image = heatmap(\n",
    "        matrix, xlabel='Спрогнозированная метка класса',\n",
    "        ylabel='Фактическая метка класса', xticklabels=labels,\n",
    "        yticklabels=labels, cmap=plt.cm.gray_r, fmt=\"%d\"\n",
    "    )\n",
    "    plt.title(\"Матрица ошибок\")\n",
    "    plt.gca().invert_yaxis()"
   ]
  },
  {
   "cell_type": "code",
   "execution_count": 380,
   "metadata": {},
   "outputs": [],
   "source": [
    "def calculate_income(y_test, pred, CM, CR, R):\n",
    "    matrix = np.rot90(np.rot90(confusion_matrix(y_test, pred), -1), -1)\n",
    "    TP = matrix[1,1]\n",
    "    FP = matrix[0,1]\n",
    "    return TP * (R - CM - CR) - FP * CM\n",
    "    "
   ]
  },
  {
   "cell_type": "markdown",
   "metadata": {},
   "source": [
    "# Загрузка и предварительная обработка данных"
   ]
  },
  {
   "cell_type": "code",
   "execution_count": 381,
   "metadata": {},
   "outputs": [],
   "source": [
    "df = pd.read_csv('responses_train.txt', sep='\\t', encoding='1251', decimal=',')"
   ]
  },
  {
   "cell_type": "code",
   "execution_count": 382,
   "metadata": {},
   "outputs": [
    {
     "data": {
      "text/plain": [
       "Index(['Код клиента', 'Возраст', 'Пол', 'Сколько лет клиент',\n",
       "       'Количество позиций товаров', 'Доход с клиента, тыс. ед.',\n",
       "       'Общее число покупок', 'Обращений в службу поддержки',\n",
       "       'Задержки платежей', 'Дисконтная карта', 'Дата отклика', 'Отклик'],\n",
       "      dtype='object')"
      ]
     },
     "execution_count": 382,
     "metadata": {},
     "output_type": "execute_result"
    }
   ],
   "source": [
    "df.columns"
   ]
  },
  {
   "cell_type": "code",
   "execution_count": 383,
   "metadata": {},
   "outputs": [],
   "source": [
    "sex_encoder = LabelEncoder()\n",
    "sex_encoder.fit(df['Пол'])\n",
    "df['binary_sex'] = sex_encoder.transform(df['Пол'])"
   ]
  },
  {
   "cell_type": "code",
   "execution_count": 384,
   "metadata": {},
   "outputs": [],
   "source": [
    "no_use = ['Код клиента', 'Дата отклика', 'Пол', 'Отклик',\n",
    "          'Обращений в службу поддержки', 'Задержки платежей', \n",
    "          'Дисконтная карта', 'binary_sex', 'Возраст'\n",
    "]\n",
    "target = 'Отклик'\n",
    "features = [i for i in df if i not in no_use]"
   ]
  },
  {
   "cell_type": "markdown",
   "metadata": {},
   "source": [
    "# Обучение на исходных данных в условиях преобладания отрицательного класса "
   ]
  },
  {
   "cell_type": "code",
   "execution_count": 385,
   "metadata": {},
   "outputs": [],
   "source": [
    "X_train, X_test, y_train, y_test = train_test_split(df[features], df[target], random_state=42)"
   ]
  },
  {
   "cell_type": "markdown",
   "metadata": {},
   "source": [
    "## Дерево решений"
   ]
  },
  {
   "cell_type": "code",
   "execution_count": 386,
   "metadata": {},
   "outputs": [
    {
     "name": "stdout",
     "output_type": "stream",
     "text": [
      "accuracy: 0.9264560710760118\n",
      "precision: 0.9222222222222223\n",
      "recall: 0.5514950166112956\n",
      "F-measure: 0.6902286902286902\n",
      "              precision    recall  f1-score   support\n",
      "\n",
      "           0       0.93      0.99      0.96      1725\n",
      "           1       0.92      0.55      0.69       301\n",
      "\n",
      "    accuracy                           0.93      2026\n",
      "   macro avg       0.92      0.77      0.82      2026\n",
      "weighted avg       0.93      0.93      0.92      2026\n",
      "\n",
      "Доход: 1646\n"
     ]
    },
    {
     "data": {
      "image/png": "[encoded data removed]",
      "text/plain": [
       "<Figure size 432x288 with 1 Axes>"
      ]
     },
     "metadata": {
      "needs_background": "light"
     },
     "output_type": "display_data"
    }
   ],
   "source": [
    "tree = DecisionTreeClassifier(max_depth=5, random_state=0)\n",
    "tree.fit(X_train, y_train)\n",
    "tree_pred = tree.predict(X_test)\n",
    "use_metrics(y_test, tree_pred)"
   ]
  },
  {
   "cell_type": "markdown",
   "metadata": {},
   "source": [
    "## Случайный лес"
   ]
  },
  {
   "cell_type": "code",
   "execution_count": 387,
   "metadata": {},
   "outputs": [
    {
     "name": "stdout",
     "output_type": "stream",
     "text": [
      "accuracy: 0.9274432379072063\n",
      "precision: 0.9139784946236559\n",
      "recall: 0.5647840531561462\n",
      "F-measure: 0.6981519507186857\n",
      "              precision    recall  f1-score   support\n",
      "\n",
      "           0       0.93      0.99      0.96      1725\n",
      "           1       0.91      0.56      0.70       301\n",
      "\n",
      "    accuracy                           0.93      2026\n",
      "   macro avg       0.92      0.78      0.83      2026\n",
      "weighted avg       0.93      0.93      0.92      2026\n",
      "\n",
      "Доход: 1684\n"
     ]
    },
    {
     "data": {
      "image/png": "[encoded data removed]",
      "text/plain": [
       "<Figure size 432x288 with 1 Axes>"
      ]
     },
     "metadata": {
      "needs_background": "light"
     },
     "output_type": "display_data"
    }
   ],
   "source": [
    "forest = RandomForestClassifier(n_estimators=500, max_depth=5, random_state=0)\n",
    "forest.fit(X_train, y_train)\n",
    "forest_pred = forest.predict(X_test)\n",
    "use_metrics(y_test, forest_pred)"
   ]
  },
  {
   "cell_type": "markdown",
   "metadata": {},
   "source": [
    "## Логистическая регрессия"
   ]
  },
  {
   "cell_type": "code",
   "execution_count": 388,
   "metadata": {},
   "outputs": [],
   "source": [
    "scaler = MinMaxScaler()\n",
    "scaler.fit(X_train)\n",
    "X_train_scaled = scaler.transform(X_train)\n",
    "X_test_scaled = scaler.transform(X_test)"
   ]
  },
  {
   "cell_type": "code",
   "execution_count": 389,
   "metadata": {},
   "outputs": [
    {
     "name": "stdout",
     "output_type": "stream",
     "text": [
      "accuracy: 0.8948667324777887\n",
      "precision: 0.7558139534883721\n",
      "recall: 0.4318936877076412\n",
      "F-measure: 0.5496828752642706\n",
      "              precision    recall  f1-score   support\n",
      "\n",
      "           0       0.91      0.98      0.94      1725\n",
      "           1       0.76      0.43      0.55       301\n",
      "\n",
      "    accuracy                           0.89      2026\n",
      "   macro avg       0.83      0.70      0.75      2026\n",
      "weighted avg       0.89      0.89      0.88      2026\n",
      "\n",
      "Доход: 1258\n"
     ]
    },
    {
     "data": {
      "image/png": "[encoded data removed]",
      "text/plain": [
       "<Figure size 432x288 with 1 Axes>"
      ]
     },
     "metadata": {
      "needs_background": "light"
     },
     "output_type": "display_data"
    }
   ],
   "source": [
    "logreg = LogisticRegression(solver='lbfgs', random_state=0, max_iter=200)\n",
    "logreg.fit(X_train_scaled, y_train)\n",
    "pred = logreg.predict(X_test_scaled)\n",
    "use_metrics(y_test, pred)"
   ]
  },
  {
   "cell_type": "markdown",
   "metadata": {},
   "source": [
    "# Over Sampling"
   ]
  },
  {
   "cell_type": "code",
   "execution_count": 390,
   "metadata": {},
   "outputs": [],
   "source": [
    "X_train, X_test, y_train, y_test = train_test_split(df[features], df[target], random_state=42, test_size=0.25)\n",
    "X_train_samples = X_train[X_train.index.isin(y_train[y_train == 1].index )]\n",
    "X_train = pd.concat(sum(([X_train], [X_train_samples] * 6), []))\n",
    "y_train = pd.concat(sum(([y_train], [y_train[y_train == 1]] * 6), []))"
   ]
  },
  {
   "cell_type": "markdown",
   "metadata": {},
   "source": [
    "## Дерево решений"
   ]
  },
  {
   "cell_type": "code",
   "execution_count": 391,
   "metadata": {},
   "outputs": [
    {
     "name": "stdout",
     "output_type": "stream",
     "text": [
      "accuracy: 0.7408687068114511\n",
      "precision: 0.35964912280701755\n",
      "recall: 0.9534883720930233\n",
      "F-measure: 0.5222929936305734\n",
      "              precision    recall  f1-score   support\n",
      "\n",
      "           0       0.99      0.70      0.82      1725\n",
      "           1       0.36      0.95      0.52       301\n",
      "\n",
      "    accuracy                           0.74      2026\n",
      "   macro avg       0.67      0.83      0.67      2026\n",
      "weighted avg       0.90      0.74      0.78      2026\n",
      "\n",
      "Доход: 2359\n"
     ]
    },
    {
     "data": {
      "image/png": "[encoded data removed]",
      "text/plain": [
       "<Figure size 432x288 with 1 Axes>"
      ]
     },
     "metadata": {
      "needs_background": "light"
     },
     "output_type": "display_data"
    }
   ],
   "source": [
    "tree = DecisionTreeClassifier(max_depth=5, random_state=0, criterion='entropy')\n",
    "tree.fit(X_train, y_train)\n",
    "tree_pred = tree.predict(X_test)\n",
    "use_metrics(y_test, tree_pred)"
   ]
  },
  {
   "cell_type": "markdown",
   "metadata": {},
   "source": [
    "## Случайный лес"
   ]
  },
  {
   "cell_type": "code",
   "execution_count": 392,
   "metadata": {},
   "outputs": [
    {
     "name": "stdout",
     "output_type": "stream",
     "text": [
      "accuracy: 0.7413622902270484\n",
      "precision: 0.3618339529120198\n",
      "recall: 0.9700996677740864\n",
      "F-measure: 0.5270758122743682\n",
      "              precision    recall  f1-score   support\n",
      "\n",
      "           0       0.99      0.70      0.82      1725\n",
      "           1       0.36      0.97      0.53       301\n",
      "\n",
      "    accuracy                           0.74      2026\n",
      "   macro avg       0.68      0.84      0.67      2026\n",
      "weighted avg       0.90      0.74      0.78      2026\n",
      "\n",
      "Доход: 2405\n"
     ]
    },
    {
     "data": {
      "image/png": "[encoded data removed]",
      "text/plain": [
       "<Figure size 432x288 with 1 Axes>"
      ]
     },
     "metadata": {
      "needs_background": "light"
     },
     "output_type": "display_data"
    }
   ],
   "source": [
    "forest = RandomForestClassifier(n_estimators=500, max_depth=5, random_state=42)\n",
    "forest.fit(X_train, y_train)\n",
    "forest_pred = forest.predict(X_test)\n",
    "use_metrics(y_test, forest_pred)"
   ]
  },
  {
   "cell_type": "code",
   "execution_count": 393,
   "metadata": {},
   "outputs": [
    {
     "name": "stdout",
     "output_type": "stream",
     "text": [
      "Сколько лет клиент 0.028317975357788464\n",
      "Количество позиций товаров 0.4133190922981898\n",
      "Доход с клиента, тыс. ед. 0.343743053090961\n",
      "Общее число покупок 0.21461987925306067\n"
     ]
    }
   ],
   "source": [
    "for i, j in zip(features, forest.feature_importances_):\n",
    "    print(i, j)"
   ]
  },
  {
   "cell_type": "markdown",
   "metadata": {},
   "source": [
    "## Логистическая регрессия"
   ]
  },
  {
   "cell_type": "code",
   "execution_count": 394,
   "metadata": {},
   "outputs": [],
   "source": [
    "scaler = MinMaxScaler()\n",
    "scaler.fit(X_train)\n",
    "X_train_scaled = scaler.transform(X_train)\n",
    "X_test_scaled = scaler.transform(X_test)"
   ]
  },
  {
   "cell_type": "code",
   "execution_count": 395,
   "metadata": {},
   "outputs": [
    {
     "name": "stdout",
     "output_type": "stream",
     "text": [
      "accuracy: 0.792694965449161\n",
      "precision: 0.40418679549114334\n",
      "recall: 0.8338870431893688\n",
      "F-measure: 0.544468546637744\n",
      "              precision    recall  f1-score   support\n",
      "\n",
      "           0       0.96      0.79      0.87      1725\n",
      "           1       0.40      0.83      0.54       301\n",
      "\n",
      "    accuracy                           0.79      2026\n",
      "   macro avg       0.68      0.81      0.71      2026\n",
      "weighted avg       0.88      0.79      0.82      2026\n",
      "\n",
      "Доход: 2140\n"
     ]
    },
    {
     "data": {
      "image/png": "[encoded data removed]",
      "text/plain": [
       "<Figure size 432x288 with 1 Axes>"
      ]
     },
     "metadata": {
      "needs_background": "light"
     },
     "output_type": "display_data"
    }
   ],
   "source": [
    "logreg = LogisticRegression(solver='lbfgs', random_state=0, C = 0.01, max_iter=200)\n",
    "logreg.fit(X_train_scaled, y_train)\n",
    "pred = logreg.predict(X_test_scaled)\n",
    "use_metrics(y_test, pred)"
   ]
  },
  {
   "cell_type": "markdown",
   "metadata": {},
   "source": [
    "# Тестирование на отложенной выборке"
   ]
  },
  {
   "cell_type": "code",
   "execution_count": 396,
   "metadata": {},
   "outputs": [],
   "source": [
    "df_test = pd.read_csv('responses_test.txt', sep='\\t', encoding='1251', decimal=',')"
   ]
  },
  {
   "cell_type": "code",
   "execution_count": 397,
   "metadata": {},
   "outputs": [],
   "source": [
    "df_test['binary_sex'] = sex_encoder.transform(df_test['Пол'])"
   ]
  },
  {
   "cell_type": "markdown",
   "metadata": {},
   "source": [
    "## Дерево решений"
   ]
  },
  {
   "cell_type": "code",
   "execution_count": 398,
   "metadata": {},
   "outputs": [
    {
     "name": "stdout",
     "output_type": "stream",
     "text": [
      "accuracy: 0.7445390596075527\n",
      "precision: 0.35731300619342543\n",
      "recall: 0.9603072983354674\n",
      "F-measure: 0.5208333333333334\n",
      "              precision    recall  f1-score   support\n",
      "\n",
      "           0       0.99      0.71      0.83      4621\n",
      "           1       0.36      0.96      0.52       781\n",
      "\n",
      "    accuracy                           0.74      5402\n",
      "   macro avg       0.67      0.83      0.67      5402\n",
      "weighted avg       0.90      0.74      0.78      5402\n",
      "\n",
      "Доход: 6151\n"
     ]
    },
    {
     "data": {
      "image/png": "[encoded data removed]",
      "text/plain": [
       "<Figure size 432x288 with 1 Axes>"
      ]
     },
     "metadata": {
      "needs_background": "light"
     },
     "output_type": "display_data"
    }
   ],
   "source": [
    "tree_pred = tree.predict(df_test[features])\n",
    "use_metrics(df_test[target], tree_pred)"
   ]
  },
  {
   "cell_type": "markdown",
   "metadata": {},
   "source": [
    "## Случайный лес"
   ]
  },
  {
   "cell_type": "code",
   "execution_count": 399,
   "metadata": {},
   "outputs": [
    {
     "name": "stdout",
     "output_type": "stream",
     "text": [
      "accuracy: 0.7428730099962977\n",
      "precision: 0.3567389255419416\n",
      "recall: 0.969270166453265\n",
      "F-measure: 0.5215294522907338\n",
      "              precision    recall  f1-score   support\n",
      "\n",
      "           0       0.99      0.70      0.82      4621\n",
      "           1       0.36      0.97      0.52       781\n",
      "\n",
      "    accuracy                           0.74      5402\n",
      "   macro avg       0.67      0.84      0.67      5402\n",
      "weighted avg       0.90      0.74      0.78      5402\n",
      "\n",
      "Доход: 6205\n"
     ]
    },
    {
     "data": {
      "image/png": "[encoded data removed]",
      "text/plain": [
       "<Figure size 432x288 with 1 Axes>"
      ]
     },
     "metadata": {
      "needs_background": "light"
     },
     "output_type": "display_data"
    }
   ],
   "source": [
    "forest_pred = forest.predict(df_test[features])\n",
    "use_metrics(df_test[target], forest_pred)"
   ]
  },
  {
   "cell_type": "markdown",
   "metadata": {},
   "source": [
    "## Логистическая регрессия "
   ]
  },
  {
   "cell_type": "code",
   "execution_count": 400,
   "metadata": {},
   "outputs": [],
   "source": [
    "scaler = MinMaxScaler()\n",
    "scaler.fit(df_test[features])\n",
    "X_test_scaled = scaler.transform(df_test[features])"
   ]
  },
  {
   "cell_type": "code",
   "execution_count": 401,
   "metadata": {},
   "outputs": [
    {
     "name": "stdout",
     "output_type": "stream",
     "text": [
      "accuracy: 0.787115883006294\n",
      "precision: 0.3871559633027523\n",
      "recall: 0.8104993597951344\n",
      "F-measure: 0.5240066225165563\n",
      "              precision    recall  f1-score   support\n",
      "\n",
      "           0       0.96      0.78      0.86      4621\n",
      "           1       0.39      0.81      0.52       781\n",
      "\n",
      "    accuracy                           0.79      5402\n",
      "   macro avg       0.67      0.80      0.69      5402\n",
      "weighted avg       0.88      0.79      0.81      5402\n",
      "\n",
      "Доход: 5328\n"
     ]
    },
    {
     "data": {
      "image/png": "[encoded data removed]",
      "text/plain": [
       "<Figure size 432x288 with 1 Axes>"
      ]
     },
     "metadata": {
      "needs_background": "light"
     },
     "output_type": "display_data"
    }
   ],
   "source": [
    "pred = logreg.predict(X_test_scaled)\n",
    "use_metrics(df_test[target], pred)"
   ]
  },
  {
   "cell_type": "code",
   "execution_count": null,
   "metadata": {},
   "outputs": [],
   "source": [
    "df"
   ]
  },
  {
   "cell_type": "code",
   "execution_count": 456,
   "metadata": {},
   "outputs": [
    {
     "data": {
      "image/png": "[encoded data removed]",
      "text/plain": [
       "<Figure size 432x288 with 1 Axes>"
      ]
     },
     "metadata": {
      "needs_background": "light"
     },
     "output_type": "display_data"
    }
   ],
   "source": [
    "plt.bar(np.arange(3), [6151, 6205, 5328])\n",
    "plt.axis(ymin=0, ymax=7000)\n",
    "plt.xticks(x, ('Дерево решений', 'Случайный лес', 'Логистическая регресия'))\n",
    "plt.show()"
   ]
  },
  {
   "cell_type": "code",
   "execution_count": 448,
   "metadata": {},
   "outputs": [],
   "source": [
    "plt.axis?"
   ]
  }
 ],
 "metadata": {
  "kernelspec": {
   "display_name": "Python 3",
   "language": "python",
   "name": "python3"
  },
  "language_info": {
   "codemirror_mode": {
    "name": "ipython",
    "version": 3
   },
   "file_extension": ".py",
   "mimetype": "text/x-python",
   "name": "python",
   "nbconvert_exporter": "python",
   "pygments_lexer": "ipython3",
   "version": "3.7.4"
  }
 },
 "nbformat": 4,
 "nbformat_minor": 2
}
