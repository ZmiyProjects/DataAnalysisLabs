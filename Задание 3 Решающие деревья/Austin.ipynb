{
 "cells": [
  {
   "cell_type": "code",
   "execution_count": 407,
   "metadata": {},
   "outputs": [],
   "source": [
    "import pandas as pd\n",
    "import numpy as np\n",
    "from matplotlib import pyplot as plt\n",
    "from sklearn import tree\n",
    "from sklearn.model_selection import train_test_split\n",
    "from sklearn.ensemble import BaggingClassifier\n",
    "from sklearn.ensemble import RandomForestClassifier\n",
    "\n",
    "from IPython.display import Image\n",
    "import graphviz\n",
    "import pydotplus \n",
    "\n",
    "pd.options.display.max_columns = 25"
   ]
  },
  {
   "cell_type": "code",
   "execution_count": 2,
   "metadata": {},
   "outputs": [],
   "source": [
    "df_austin = pd.read_csv(\"austin_weather.csv\")\n",
    "df_austin['Events'].replace(' ', np.nan, inplace=True)\n",
    "df_austin['Events'].replace(' ', np.nan, inplace=True)\n",
    "df_austin['Events'].fillna('clear', inplace=True)"
   ]
  },
  {
   "cell_type": "code",
   "execution_count": 17,
   "metadata": {},
   "outputs": [],
   "source": [
    "df_austin.replace('-', 0, inplace=True)"
   ]
  },
  {
   "cell_type": "code",
   "execution_count": 206,
   "metadata": {},
   "outputs": [],
   "source": [
    "df_austin['PrecipitationSumInches'].replace('T', 0, inplace=True)"
   ]
  },
  {
   "cell_type": "code",
   "execution_count": 207,
   "metadata": {},
   "outputs": [
    {
     "data": {
      "text/html": [
       "<div>\n",
       "<style scoped>\n",
       "    .dataframe tbody tr th:only-of-type {\n",
       "        vertical-align: middle;\n",
       "    }\n",
       "\n",
       "    .dataframe tbody tr th {\n",
       "        vertical-align: top;\n",
       "    }\n",
       "\n",
       "    .dataframe thead th {\n",
       "        text-align: right;\n",
       "    }\n",
       "</style>\n",
       "<table border=\"1\" class=\"dataframe\">\n",
       "  <thead>\n",
       "    <tr style=\"text-align: right;\">\n",
       "      <th></th>\n",
       "      <th>Date</th>\n",
       "      <th>TempHighF</th>\n",
       "      <th>TempAvgF</th>\n",
       "      <th>TempLowF</th>\n",
       "      <th>DewPointHighF</th>\n",
       "      <th>DewPointAvgF</th>\n",
       "      <th>DewPointLowF</th>\n",
       "      <th>HumidityHighPercent</th>\n",
       "      <th>HumidityAvgPercent</th>\n",
       "      <th>HumidityLowPercent</th>\n",
       "      <th>SeaLevelPressureHighInches</th>\n",
       "      <th>SeaLevelPressureAvgInches</th>\n",
       "      <th>SeaLevelPressureLowInches</th>\n",
       "      <th>VisibilityHighMiles</th>\n",
       "      <th>VisibilityAvgMiles</th>\n",
       "      <th>VisibilityLowMiles</th>\n",
       "      <th>WindHighMPH</th>\n",
       "      <th>WindAvgMPH</th>\n",
       "      <th>WindGustMPH</th>\n",
       "      <th>PrecipitationSumInches</th>\n",
       "      <th>Events</th>\n",
       "    </tr>\n",
       "  </thead>\n",
       "  <tbody>\n",
       "    <tr>\n",
       "      <td>0</td>\n",
       "      <td>2013-12-21</td>\n",
       "      <td>74</td>\n",
       "      <td>60</td>\n",
       "      <td>45</td>\n",
       "      <td>67</td>\n",
       "      <td>49</td>\n",
       "      <td>43</td>\n",
       "      <td>93</td>\n",
       "      <td>75</td>\n",
       "      <td>57</td>\n",
       "      <td>29.86</td>\n",
       "      <td>29.68</td>\n",
       "      <td>29.59</td>\n",
       "      <td>10</td>\n",
       "      <td>7</td>\n",
       "      <td>2</td>\n",
       "      <td>20</td>\n",
       "      <td>4</td>\n",
       "      <td>31</td>\n",
       "      <td>0.46</td>\n",
       "      <td>Rain , Thunderstorm</td>\n",
       "    </tr>\n",
       "    <tr>\n",
       "      <td>1</td>\n",
       "      <td>2013-12-22</td>\n",
       "      <td>56</td>\n",
       "      <td>48</td>\n",
       "      <td>39</td>\n",
       "      <td>43</td>\n",
       "      <td>36</td>\n",
       "      <td>28</td>\n",
       "      <td>93</td>\n",
       "      <td>68</td>\n",
       "      <td>43</td>\n",
       "      <td>30.41</td>\n",
       "      <td>30.13</td>\n",
       "      <td>29.87</td>\n",
       "      <td>10</td>\n",
       "      <td>10</td>\n",
       "      <td>5</td>\n",
       "      <td>16</td>\n",
       "      <td>6</td>\n",
       "      <td>25</td>\n",
       "      <td>0</td>\n",
       "      <td>clear</td>\n",
       "    </tr>\n",
       "    <tr>\n",
       "      <td>2</td>\n",
       "      <td>2013-12-23</td>\n",
       "      <td>58</td>\n",
       "      <td>45</td>\n",
       "      <td>32</td>\n",
       "      <td>31</td>\n",
       "      <td>27</td>\n",
       "      <td>23</td>\n",
       "      <td>76</td>\n",
       "      <td>52</td>\n",
       "      <td>27</td>\n",
       "      <td>30.56</td>\n",
       "      <td>30.49</td>\n",
       "      <td>30.41</td>\n",
       "      <td>10</td>\n",
       "      <td>10</td>\n",
       "      <td>10</td>\n",
       "      <td>8</td>\n",
       "      <td>3</td>\n",
       "      <td>12</td>\n",
       "      <td>0</td>\n",
       "      <td>clear</td>\n",
       "    </tr>\n",
       "    <tr>\n",
       "      <td>3</td>\n",
       "      <td>2013-12-24</td>\n",
       "      <td>61</td>\n",
       "      <td>46</td>\n",
       "      <td>31</td>\n",
       "      <td>36</td>\n",
       "      <td>28</td>\n",
       "      <td>21</td>\n",
       "      <td>89</td>\n",
       "      <td>56</td>\n",
       "      <td>22</td>\n",
       "      <td>30.56</td>\n",
       "      <td>30.45</td>\n",
       "      <td>30.3</td>\n",
       "      <td>10</td>\n",
       "      <td>10</td>\n",
       "      <td>7</td>\n",
       "      <td>12</td>\n",
       "      <td>4</td>\n",
       "      <td>20</td>\n",
       "      <td>0</td>\n",
       "      <td>clear</td>\n",
       "    </tr>\n",
       "    <tr>\n",
       "      <td>4</td>\n",
       "      <td>2013-12-25</td>\n",
       "      <td>58</td>\n",
       "      <td>50</td>\n",
       "      <td>41</td>\n",
       "      <td>44</td>\n",
       "      <td>40</td>\n",
       "      <td>36</td>\n",
       "      <td>86</td>\n",
       "      <td>71</td>\n",
       "      <td>56</td>\n",
       "      <td>30.41</td>\n",
       "      <td>30.33</td>\n",
       "      <td>30.27</td>\n",
       "      <td>10</td>\n",
       "      <td>10</td>\n",
       "      <td>7</td>\n",
       "      <td>10</td>\n",
       "      <td>2</td>\n",
       "      <td>16</td>\n",
       "      <td>0</td>\n",
       "      <td>clear</td>\n",
       "    </tr>\n",
       "  </tbody>\n",
       "</table>\n",
       "</div>"
      ],
      "text/plain": [
       "         Date  TempHighF  TempAvgF  TempLowF DewPointHighF DewPointAvgF  \\\n",
       "0  2013-12-21         74        60        45            67           49   \n",
       "1  2013-12-22         56        48        39            43           36   \n",
       "2  2013-12-23         58        45        32            31           27   \n",
       "3  2013-12-24         61        46        31            36           28   \n",
       "4  2013-12-25         58        50        41            44           40   \n",
       "\n",
       "  DewPointLowF HumidityHighPercent HumidityAvgPercent HumidityLowPercent  \\\n",
       "0           43                  93                 75                 57   \n",
       "1           28                  93                 68                 43   \n",
       "2           23                  76                 52                 27   \n",
       "3           21                  89                 56                 22   \n",
       "4           36                  86                 71                 56   \n",
       "\n",
       "  SeaLevelPressureHighInches SeaLevelPressureAvgInches  \\\n",
       "0                      29.86                     29.68   \n",
       "1                      30.41                     30.13   \n",
       "2                      30.56                     30.49   \n",
       "3                      30.56                     30.45   \n",
       "4                      30.41                     30.33   \n",
       "\n",
       "  SeaLevelPressureLowInches VisibilityHighMiles VisibilityAvgMiles  \\\n",
       "0                     29.59                  10                  7   \n",
       "1                     29.87                  10                 10   \n",
       "2                     30.41                  10                 10   \n",
       "3                      30.3                  10                 10   \n",
       "4                     30.27                  10                 10   \n",
       "\n",
       "  VisibilityLowMiles WindHighMPH WindAvgMPH WindGustMPH  \\\n",
       "0                  2          20          4          31   \n",
       "1                  5          16          6          25   \n",
       "2                 10           8          3          12   \n",
       "3                  7          12          4          20   \n",
       "4                  7          10          2          16   \n",
       "\n",
       "  PrecipitationSumInches               Events  \n",
       "0                   0.46  Rain , Thunderstorm  \n",
       "1                      0                clear  \n",
       "2                      0                clear  \n",
       "3                      0                clear  \n",
       "4                      0                clear  "
      ]
     },
     "execution_count": 207,
     "metadata": {},
     "output_type": "execute_result"
    }
   ],
   "source": [
    "df_austin.head()"
   ]
  },
  {
   "cell_type": "code",
   "execution_count": 208,
   "metadata": {},
   "outputs": [],
   "source": [
    "no_use = [\"Date\", \"Events\"]\n",
    "target = \"Events\"\n",
    "features = [i for i in df_austin if i not in no_use]"
   ]
  },
  {
   "cell_type": "code",
   "execution_count": 239,
   "metadata": {},
   "outputs": [
    {
     "data": {
      "text/html": [
       "<div>\n",
       "<style scoped>\n",
       "    .dataframe tbody tr th:only-of-type {\n",
       "        vertical-align: middle;\n",
       "    }\n",
       "\n",
       "    .dataframe tbody tr th {\n",
       "        vertical-align: top;\n",
       "    }\n",
       "\n",
       "    .dataframe thead th {\n",
       "        text-align: right;\n",
       "    }\n",
       "</style>\n",
       "<table border=\"1\" class=\"dataframe\">\n",
       "  <thead>\n",
       "    <tr style=\"text-align: right;\">\n",
       "      <th></th>\n",
       "      <th>TempHighF</th>\n",
       "      <th>TempAvgF</th>\n",
       "      <th>TempLowF</th>\n",
       "    </tr>\n",
       "  </thead>\n",
       "  <tbody>\n",
       "    <tr>\n",
       "      <td>TempHighF</td>\n",
       "      <td>1.000000</td>\n",
       "      <td>0.970655</td>\n",
       "      <td>0.881977</td>\n",
       "    </tr>\n",
       "    <tr>\n",
       "      <td>TempAvgF</td>\n",
       "      <td>0.970655</td>\n",
       "      <td>1.000000</td>\n",
       "      <td>0.968573</td>\n",
       "    </tr>\n",
       "    <tr>\n",
       "      <td>TempLowF</td>\n",
       "      <td>0.881977</td>\n",
       "      <td>0.968573</td>\n",
       "      <td>1.000000</td>\n",
       "    </tr>\n",
       "  </tbody>\n",
       "</table>\n",
       "</div>"
      ],
      "text/plain": [
       "           TempHighF  TempAvgF  TempLowF\n",
       "TempHighF   1.000000  0.970655  0.881977\n",
       "TempAvgF    0.970655  1.000000  0.968573\n",
       "TempLowF    0.881977  0.968573  1.000000"
      ]
     },
     "execution_count": 239,
     "metadata": {},
     "output_type": "execute_result"
    }
   ],
   "source": [
    "df_austin.corr()"
   ]
  },
  {
   "cell_type": "code",
   "execution_count": 209,
   "metadata": {},
   "outputs": [
    {
     "data": {
      "text/plain": [
       "['TempHighF',\n",
       " 'TempAvgF',\n",
       " 'TempLowF',\n",
       " 'DewPointHighF',\n",
       " 'DewPointAvgF',\n",
       " 'DewPointLowF',\n",
       " 'HumidityHighPercent',\n",
       " 'HumidityAvgPercent',\n",
       " 'HumidityLowPercent',\n",
       " 'SeaLevelPressureHighInches',\n",
       " 'SeaLevelPressureAvgInches',\n",
       " 'SeaLevelPressureLowInches',\n",
       " 'VisibilityHighMiles',\n",
       " 'VisibilityAvgMiles',\n",
       " 'VisibilityLowMiles',\n",
       " 'WindHighMPH',\n",
       " 'WindAvgMPH',\n",
       " 'WindGustMPH',\n",
       " 'PrecipitationSumInches']"
      ]
     },
     "execution_count": 209,
     "metadata": {},
     "output_type": "execute_result"
    }
   ],
   "source": [
    "features"
   ]
  },
  {
   "cell_type": "code",
   "execution_count": 449,
   "metadata": {},
   "outputs": [
    {
     "name": "stdout",
     "output_type": "stream",
     "text": [
      "Правильность на обучающем наборе: 0.941\n",
      "Правильность на тестовом наборе: 0.885\n"
     ]
    }
   ],
   "source": [
    "X_train, X_test, y_train, y_test = train_test_split(df_austin[features], df_austin[target], random_state=34) \n",
    "forest = RandomForestClassifier(random_state=42, n_estimators=100, max_depth=7)\n",
    "forest.fit(X_train, y_train)\n",
    "print(\"Правильность на обучающем наборе: {:.3f}\".format(forest.score(X_train, y_train)))\n",
    "print(\"Правильность на тестовом наборе: {:.3f}\".format(forest.score(X_test, y_test)))"
   ]
  },
  {
   "cell_type": "code",
   "execution_count": 406,
   "metadata": {},
   "outputs": [
    {
     "name": "stdout",
     "output_type": "stream",
     "text": [
      "Правильность на обучающем наборе: 0.923\n",
      "Правильность на тестовом наборе: 0.885\n"
     ]
    }
   ],
   "source": [
    "X_train, X_test, y_train, y_test = train_test_split(df_austin[features], df_austin[target], random_state=34) \n",
    "tree_class = tree.DecisionTreeClassifier(\n",
    "    random_state=0, max_depth=6, criterion='entropy', max_features=int(len(features)**0.5)\n",
    ")\n",
    "bag = BaggingClassifier(tree_class, random_state=42, n_estimators=150)\n",
    "bag.fit(X_train, y_train)\n",
    "print(\"Правильность на обучающем наборе: {:.3f}\".format(bag.score(X_train, y_train)))\n",
    "print(\"Правильность на тестовом наборе: {:.3f}\".format(bag.score(X_test, y_test)))"
   ]
  },
  {
   "cell_type": "code",
   "execution_count": 450,
   "metadata": {},
   "outputs": [
    {
     "name": "stdout",
     "output_type": "stream",
     "text": [
      "Правильность на обучающем наборе: 0.887\n",
      "Правильность на тестовом наборе: 0.876\n"
     ]
    }
   ],
   "source": [
    "X_train, X_test, y_train, y_test = train_test_split(df_austin[features], df_austin[target], random_state=34) \n",
    "tree_class = tree.DecisionTreeClassifier(\n",
    "    random_state=0, max_depth=5, criterion='entropy', max_features=len(features)-2,\n",
    ")\n",
    "tree_class.fit(X_train, y_train)\n",
    "print(\"Правильность на обучающем наборе: {:.3f}\".format(tree_class.score(X_train, y_train)))\n",
    "print(\"Правильность на тестовом наборе: {:.3f}\".format(tree_class.score(X_test, y_test)))"
   ]
  },
  {
   "cell_type": "code",
   "execution_count": 241,
   "metadata": {},
   "outputs": [
    {
     "name": "stdout",
     "output_type": "stream",
     "text": [
      "Правильность на тестовом наборе: 0.736\n",
      "Правильность на тестовом наборе: 0.706\n",
      "Правильность на тестовом наборе: 0.812\n",
      "Правильность на тестовом наборе: 0.773\n",
      "Правильность на тестовом наборе: 0.788\n",
      "Правильность на тестовом наборе: 0.748\n",
      "Правильность на тестовом наборе: 0.833\n",
      "Правильность на тестовом наборе: 0.736\n",
      "Правильность на тестовом наборе: 0.827\n",
      "Правильность на тестовом наборе: 0.818\n",
      "Правильность на тестовом наборе: 0.830\n",
      "Правильность на тестовом наборе: 0.748\n",
      "Правильность на тестовом наборе: 0.809\n",
      "Правильность на тестовом наборе: 0.830\n",
      "Правильность на тестовом наборе: 0.806\n",
      "Правильность на тестовом наборе: 0.830\n",
      "Правильность на тестовом наборе: 0.842\n",
      "Правильность на тестовом наборе: 0.824\n"
     ]
    }
   ],
   "source": [
    "for i in range(1, len(features)):\n",
    "    X_train, X_test, y_train, y_test = train_test_split(df_austin[features], df_austin[target], random_state=42) \n",
    "    tree_class = tree.DecisionTreeClassifier(random_state=0, max_depth=5, criterion='entropy', max_features=i)\n",
    "    tree_class.fit(X_train, y_train)\n",
    "    # print(\"Правильность на обучающем наборе: {:.3f}\".format(tree_class.score(X_train, y_train)))\n",
    "    print(\"Правильность на тестовом наборе: {:.3f}\".format(tree_class.score(X_test, y_test)))"
   ]
  },
  {
   "cell_type": "code",
   "execution_count": 235,
   "metadata": {},
   "outputs": [
    {
     "name": "stdout",
     "output_type": "stream",
     "text": [
      "Правильность на обучающем наборе: 0.846\n",
      "Правильность на тестовом наборе: 0.773\n"
     ]
    }
   ],
   "source": []
  },
  {
   "cell_type": "code",
   "execution_count": 372,
   "metadata": {},
   "outputs": [],
   "source": [
    "tree.DecisionTreeClassifier?"
   ]
  },
  {
   "cell_type": "code",
   "execution_count": null,
   "metadata": {},
   "outputs": [],
   "source": [
    "BaggingClassifier?"
   ]
  }
 ],
 "metadata": {
  "kernelspec": {
   "display_name": "Python 3",
   "language": "python",
   "name": "python3"
  },
  "language_info": {
   "codemirror_mode": {
    "name": "ipython",
    "version": 3
   },
   "file_extension": ".py",
   "mimetype": "text/x-python",
   "name": "python",
   "nbconvert_exporter": "python",
   "pygments_lexer": "ipython3",
   "version": "3.7.4"
  }
 },
 "nbformat": 4,
 "nbformat_minor": 2
}
